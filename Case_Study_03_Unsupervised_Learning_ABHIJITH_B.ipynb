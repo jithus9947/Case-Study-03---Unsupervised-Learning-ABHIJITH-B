{
  "nbformat": 4,
  "nbformat_minor": 0,
  "metadata": {
    "colab": {
      "name": "Case Study #03 - Unsupervised Learning : ABHIJITH B",
      "provenance": [],
      "collapsed_sections": []
    },
    "kernelspec": {
      "name": "python3",
      "display_name": "Python 3"
    },
    "language_info": {
      "name": "python"
    },
    "accelerator": "GPU",
    "gpuClass": "standard"
  },
  "cells": [
    {
      "cell_type": "code",
      "execution_count": 1,
      "metadata": {
        "id": "hKigye08YayC"
      },
      "outputs": [],
      "source": [
        "import numpy as np \n",
        "import pandas as pd \n",
        "import seaborn as sns\n",
        "from sklearn.preprocessing import StandardScaler\n",
        "from sklearn.cluster import KMeans\n",
        "from itertools import cycle, islice\n",
        "import matplotlib.pyplot as plt\n",
        "%matplotlib inline \n",
        "import pylab\n",
        "import math\n",
        "from pandas.plotting import parallel_coordinates\n",
        "from scipy.cluster.hierarchy import dendrogram,linkage\n",
        "from sklearn.cluster import AgglomerativeClustering"
      ]
    },
    {
      "cell_type": "code",
      "source": [
        "df = pd.read_csv('/content/Wholesale customers data.csv')"
      ],
      "metadata": {
        "id": "TLFxWiLsY0wp"
      },
      "execution_count": 2,
      "outputs": []
    },
    {
      "cell_type": "code",
      "source": [
        "df.head()"
      ],
      "metadata": {
        "colab": {
          "base_uri": "https://localhost:8080/",
          "height": 206
        },
        "id": "dug8hgciY18Y",
        "outputId": "96546ae3-d65f-4dcc-b6d9-7f02d11ef4ec"
      },
      "execution_count": 3,
      "outputs": [
        {
          "output_type": "execute_result",
          "data": {
            "text/plain": [
              "   Channel  Region  Fresh  Milk  Grocery  Frozen  Detergents_Paper  Delicassen\n",
              "0        2       3  12669  9656     7561     214              2674        1338\n",
              "1        2       3   7057  9810     9568    1762              3293        1776\n",
              "2        2       3   6353  8808     7684    2405              3516        7844\n",
              "3        1       3  13265  1196     4221    6404               507        1788\n",
              "4        2       3  22615  5410     7198    3915              1777        5185"
            ],
            "text/html": [
              "\n",
              "  <div id=\"df-694e5d95-e5ff-4697-9bfe-b633534c8042\">\n",
              "    <div class=\"colab-df-container\">\n",
              "      <div>\n",
              "<style scoped>\n",
              "    .dataframe tbody tr th:only-of-type {\n",
              "        vertical-align: middle;\n",
              "    }\n",
              "\n",
              "    .dataframe tbody tr th {\n",
              "        vertical-align: top;\n",
              "    }\n",
              "\n",
              "    .dataframe thead th {\n",
              "        text-align: right;\n",
              "    }\n",
              "</style>\n",
              "<table border=\"1\" class=\"dataframe\">\n",
              "  <thead>\n",
              "    <tr style=\"text-align: right;\">\n",
              "      <th></th>\n",
              "      <th>Channel</th>\n",
              "      <th>Region</th>\n",
              "      <th>Fresh</th>\n",
              "      <th>Milk</th>\n",
              "      <th>Grocery</th>\n",
              "      <th>Frozen</th>\n",
              "      <th>Detergents_Paper</th>\n",
              "      <th>Delicassen</th>\n",
              "    </tr>\n",
              "  </thead>\n",
              "  <tbody>\n",
              "    <tr>\n",
              "      <th>0</th>\n",
              "      <td>2</td>\n",
              "      <td>3</td>\n",
              "      <td>12669</td>\n",
              "      <td>9656</td>\n",
              "      <td>7561</td>\n",
              "      <td>214</td>\n",
              "      <td>2674</td>\n",
              "      <td>1338</td>\n",
              "    </tr>\n",
              "    <tr>\n",
              "      <th>1</th>\n",
              "      <td>2</td>\n",
              "      <td>3</td>\n",
              "      <td>7057</td>\n",
              "      <td>9810</td>\n",
              "      <td>9568</td>\n",
              "      <td>1762</td>\n",
              "      <td>3293</td>\n",
              "      <td>1776</td>\n",
              "    </tr>\n",
              "    <tr>\n",
              "      <th>2</th>\n",
              "      <td>2</td>\n",
              "      <td>3</td>\n",
              "      <td>6353</td>\n",
              "      <td>8808</td>\n",
              "      <td>7684</td>\n",
              "      <td>2405</td>\n",
              "      <td>3516</td>\n",
              "      <td>7844</td>\n",
              "    </tr>\n",
              "    <tr>\n",
              "      <th>3</th>\n",
              "      <td>1</td>\n",
              "      <td>3</td>\n",
              "      <td>13265</td>\n",
              "      <td>1196</td>\n",
              "      <td>4221</td>\n",
              "      <td>6404</td>\n",
              "      <td>507</td>\n",
              "      <td>1788</td>\n",
              "    </tr>\n",
              "    <tr>\n",
              "      <th>4</th>\n",
              "      <td>2</td>\n",
              "      <td>3</td>\n",
              "      <td>22615</td>\n",
              "      <td>5410</td>\n",
              "      <td>7198</td>\n",
              "      <td>3915</td>\n",
              "      <td>1777</td>\n",
              "      <td>5185</td>\n",
              "    </tr>\n",
              "  </tbody>\n",
              "</table>\n",
              "</div>\n",
              "      <button class=\"colab-df-convert\" onclick=\"convertToInteractive('df-694e5d95-e5ff-4697-9bfe-b633534c8042')\"\n",
              "              title=\"Convert this dataframe to an interactive table.\"\n",
              "              style=\"display:none;\">\n",
              "        \n",
              "  <svg xmlns=\"http://www.w3.org/2000/svg\" height=\"24px\"viewBox=\"0 0 24 24\"\n",
              "       width=\"24px\">\n",
              "    <path d=\"M0 0h24v24H0V0z\" fill=\"none\"/>\n",
              "    <path d=\"M18.56 5.44l.94 2.06.94-2.06 2.06-.94-2.06-.94-.94-2.06-.94 2.06-2.06.94zm-11 1L8.5 8.5l.94-2.06 2.06-.94-2.06-.94L8.5 2.5l-.94 2.06-2.06.94zm10 10l.94 2.06.94-2.06 2.06-.94-2.06-.94-.94-2.06-.94 2.06-2.06.94z\"/><path d=\"M17.41 7.96l-1.37-1.37c-.4-.4-.92-.59-1.43-.59-.52 0-1.04.2-1.43.59L10.3 9.45l-7.72 7.72c-.78.78-.78 2.05 0 2.83L4 21.41c.39.39.9.59 1.41.59.51 0 1.02-.2 1.41-.59l7.78-7.78 2.81-2.81c.8-.78.8-2.07 0-2.86zM5.41 20L4 18.59l7.72-7.72 1.47 1.35L5.41 20z\"/>\n",
              "  </svg>\n",
              "      </button>\n",
              "      \n",
              "  <style>\n",
              "    .colab-df-container {\n",
              "      display:flex;\n",
              "      flex-wrap:wrap;\n",
              "      gap: 12px;\n",
              "    }\n",
              "\n",
              "    .colab-df-convert {\n",
              "      background-color: #E8F0FE;\n",
              "      border: none;\n",
              "      border-radius: 50%;\n",
              "      cursor: pointer;\n",
              "      display: none;\n",
              "      fill: #1967D2;\n",
              "      height: 32px;\n",
              "      padding: 0 0 0 0;\n",
              "      width: 32px;\n",
              "    }\n",
              "\n",
              "    .colab-df-convert:hover {\n",
              "      background-color: #E2EBFA;\n",
              "      box-shadow: 0px 1px 2px rgba(60, 64, 67, 0.3), 0px 1px 3px 1px rgba(60, 64, 67, 0.15);\n",
              "      fill: #174EA6;\n",
              "    }\n",
              "\n",
              "    [theme=dark] .colab-df-convert {\n",
              "      background-color: #3B4455;\n",
              "      fill: #D2E3FC;\n",
              "    }\n",
              "\n",
              "    [theme=dark] .colab-df-convert:hover {\n",
              "      background-color: #434B5C;\n",
              "      box-shadow: 0px 1px 3px 1px rgba(0, 0, 0, 0.15);\n",
              "      filter: drop-shadow(0px 1px 2px rgba(0, 0, 0, 0.3));\n",
              "      fill: #FFFFFF;\n",
              "    }\n",
              "  </style>\n",
              "\n",
              "      <script>\n",
              "        const buttonEl =\n",
              "          document.querySelector('#df-694e5d95-e5ff-4697-9bfe-b633534c8042 button.colab-df-convert');\n",
              "        buttonEl.style.display =\n",
              "          google.colab.kernel.accessAllowed ? 'block' : 'none';\n",
              "\n",
              "        async function convertToInteractive(key) {\n",
              "          const element = document.querySelector('#df-694e5d95-e5ff-4697-9bfe-b633534c8042');\n",
              "          const dataTable =\n",
              "            await google.colab.kernel.invokeFunction('convertToInteractive',\n",
              "                                                     [key], {});\n",
              "          if (!dataTable) return;\n",
              "\n",
              "          const docLinkHtml = 'Like what you see? Visit the ' +\n",
              "            '<a target=\"_blank\" href=https://colab.research.google.com/notebooks/data_table.ipynb>data table notebook</a>'\n",
              "            + ' to learn more about interactive tables.';\n",
              "          element.innerHTML = '';\n",
              "          dataTable['output_type'] = 'display_data';\n",
              "          await google.colab.output.renderOutput(dataTable, element);\n",
              "          const docLink = document.createElement('div');\n",
              "          docLink.innerHTML = docLinkHtml;\n",
              "          element.appendChild(docLink);\n",
              "        }\n",
              "      </script>\n",
              "    </div>\n",
              "  </div>\n",
              "  "
            ]
          },
          "metadata": {},
          "execution_count": 3
        }
      ]
    },
    {
      "cell_type": "code",
      "source": [
        "df.shape "
      ],
      "metadata": {
        "colab": {
          "base_uri": "https://localhost:8080/"
        },
        "id": "eMhkMULWgQMv",
        "outputId": "3715c649-4074-4a84-9e12-a31d3d8121a5"
      },
      "execution_count": 4,
      "outputs": [
        {
          "output_type": "execute_result",
          "data": {
            "text/plain": [
              "(440, 8)"
            ]
          },
          "metadata": {},
          "execution_count": 4
        }
      ]
    },
    {
      "cell_type": "code",
      "source": [
        "df.columns"
      ],
      "metadata": {
        "colab": {
          "base_uri": "https://localhost:8080/"
        },
        "id": "v4rWTiYAgS5j",
        "outputId": "7a12c560-4263-42bb-8b73-e6a3a4d54655"
      },
      "execution_count": 5,
      "outputs": [
        {
          "output_type": "execute_result",
          "data": {
            "text/plain": [
              "Index(['Channel', 'Region', 'Fresh', 'Milk', 'Grocery', 'Frozen',\n",
              "       'Detergents_Paper', 'Delicassen'],\n",
              "      dtype='object')"
            ]
          },
          "metadata": {},
          "execution_count": 5
        }
      ]
    },
    {
      "cell_type": "code",
      "source": [
        "df.info()"
      ],
      "metadata": {
        "colab": {
          "base_uri": "https://localhost:8080/"
        },
        "id": "0GvwArdngU2v",
        "outputId": "55bceb17-15da-4900-9d41-95cbeb74a860"
      },
      "execution_count": 6,
      "outputs": [
        {
          "output_type": "stream",
          "name": "stdout",
          "text": [
            "<class 'pandas.core.frame.DataFrame'>\n",
            "RangeIndex: 440 entries, 0 to 439\n",
            "Data columns (total 8 columns):\n",
            " #   Column            Non-Null Count  Dtype\n",
            "---  ------            --------------  -----\n",
            " 0   Channel           440 non-null    int64\n",
            " 1   Region            440 non-null    int64\n",
            " 2   Fresh             440 non-null    int64\n",
            " 3   Milk              440 non-null    int64\n",
            " 4   Grocery           440 non-null    int64\n",
            " 5   Frozen            440 non-null    int64\n",
            " 6   Detergents_Paper  440 non-null    int64\n",
            " 7   Delicassen        440 non-null    int64\n",
            "dtypes: int64(8)\n",
            "memory usage: 27.6 KB\n"
          ]
        }
      ]
    },
    {
      "cell_type": "code",
      "source": [
        "df.isna().sum()"
      ],
      "metadata": {
        "colab": {
          "base_uri": "https://localhost:8080/"
        },
        "id": "uPjheDfWgZL4",
        "outputId": "41585ed8-259c-49d0-8d6b-6903600c8317"
      },
      "execution_count": 7,
      "outputs": [
        {
          "output_type": "execute_result",
          "data": {
            "text/plain": [
              "Channel             0\n",
              "Region              0\n",
              "Fresh               0\n",
              "Milk                0\n",
              "Grocery             0\n",
              "Frozen              0\n",
              "Detergents_Paper    0\n",
              "Delicassen          0\n",
              "dtype: int64"
            ]
          },
          "metadata": {},
          "execution_count": 7
        }
      ]
    },
    {
      "cell_type": "code",
      "source": [
        "df.describe()"
      ],
      "metadata": {
        "colab": {
          "base_uri": "https://localhost:8080/",
          "height": 300
        },
        "id": "Orvh0J-VgXK7",
        "outputId": "00f152b1-0f49-444d-99fa-ff9278a09e4a"
      },
      "execution_count": 8,
      "outputs": [
        {
          "output_type": "execute_result",
          "data": {
            "text/plain": [
              "          Channel      Region          Fresh          Milk       Grocery  \\\n",
              "count  440.000000  440.000000     440.000000    440.000000    440.000000   \n",
              "mean     1.322727    2.543182   12000.297727   5796.265909   7951.277273   \n",
              "std      0.468052    0.774272   12647.328865   7380.377175   9503.162829   \n",
              "min      1.000000    1.000000       3.000000     55.000000      3.000000   \n",
              "25%      1.000000    2.000000    3127.750000   1533.000000   2153.000000   \n",
              "50%      1.000000    3.000000    8504.000000   3627.000000   4755.500000   \n",
              "75%      2.000000    3.000000   16933.750000   7190.250000  10655.750000   \n",
              "max      2.000000    3.000000  112151.000000  73498.000000  92780.000000   \n",
              "\n",
              "             Frozen  Detergents_Paper    Delicassen  \n",
              "count    440.000000        440.000000    440.000000  \n",
              "mean    3071.931818       2881.493182   1524.870455  \n",
              "std     4854.673333       4767.854448   2820.105937  \n",
              "min       25.000000          3.000000      3.000000  \n",
              "25%      742.250000        256.750000    408.250000  \n",
              "50%     1526.000000        816.500000    965.500000  \n",
              "75%     3554.250000       3922.000000   1820.250000  \n",
              "max    60869.000000      40827.000000  47943.000000  "
            ],
            "text/html": [
              "\n",
              "  <div id=\"df-cd27dfcb-c1c0-47c9-a770-e955aa85a495\">\n",
              "    <div class=\"colab-df-container\">\n",
              "      <div>\n",
              "<style scoped>\n",
              "    .dataframe tbody tr th:only-of-type {\n",
              "        vertical-align: middle;\n",
              "    }\n",
              "\n",
              "    .dataframe tbody tr th {\n",
              "        vertical-align: top;\n",
              "    }\n",
              "\n",
              "    .dataframe thead th {\n",
              "        text-align: right;\n",
              "    }\n",
              "</style>\n",
              "<table border=\"1\" class=\"dataframe\">\n",
              "  <thead>\n",
              "    <tr style=\"text-align: right;\">\n",
              "      <th></th>\n",
              "      <th>Channel</th>\n",
              "      <th>Region</th>\n",
              "      <th>Fresh</th>\n",
              "      <th>Milk</th>\n",
              "      <th>Grocery</th>\n",
              "      <th>Frozen</th>\n",
              "      <th>Detergents_Paper</th>\n",
              "      <th>Delicassen</th>\n",
              "    </tr>\n",
              "  </thead>\n",
              "  <tbody>\n",
              "    <tr>\n",
              "      <th>count</th>\n",
              "      <td>440.000000</td>\n",
              "      <td>440.000000</td>\n",
              "      <td>440.000000</td>\n",
              "      <td>440.000000</td>\n",
              "      <td>440.000000</td>\n",
              "      <td>440.000000</td>\n",
              "      <td>440.000000</td>\n",
              "      <td>440.000000</td>\n",
              "    </tr>\n",
              "    <tr>\n",
              "      <th>mean</th>\n",
              "      <td>1.322727</td>\n",
              "      <td>2.543182</td>\n",
              "      <td>12000.297727</td>\n",
              "      <td>5796.265909</td>\n",
              "      <td>7951.277273</td>\n",
              "      <td>3071.931818</td>\n",
              "      <td>2881.493182</td>\n",
              "      <td>1524.870455</td>\n",
              "    </tr>\n",
              "    <tr>\n",
              "      <th>std</th>\n",
              "      <td>0.468052</td>\n",
              "      <td>0.774272</td>\n",
              "      <td>12647.328865</td>\n",
              "      <td>7380.377175</td>\n",
              "      <td>9503.162829</td>\n",
              "      <td>4854.673333</td>\n",
              "      <td>4767.854448</td>\n",
              "      <td>2820.105937</td>\n",
              "    </tr>\n",
              "    <tr>\n",
              "      <th>min</th>\n",
              "      <td>1.000000</td>\n",
              "      <td>1.000000</td>\n",
              "      <td>3.000000</td>\n",
              "      <td>55.000000</td>\n",
              "      <td>3.000000</td>\n",
              "      <td>25.000000</td>\n",
              "      <td>3.000000</td>\n",
              "      <td>3.000000</td>\n",
              "    </tr>\n",
              "    <tr>\n",
              "      <th>25%</th>\n",
              "      <td>1.000000</td>\n",
              "      <td>2.000000</td>\n",
              "      <td>3127.750000</td>\n",
              "      <td>1533.000000</td>\n",
              "      <td>2153.000000</td>\n",
              "      <td>742.250000</td>\n",
              "      <td>256.750000</td>\n",
              "      <td>408.250000</td>\n",
              "    </tr>\n",
              "    <tr>\n",
              "      <th>50%</th>\n",
              "      <td>1.000000</td>\n",
              "      <td>3.000000</td>\n",
              "      <td>8504.000000</td>\n",
              "      <td>3627.000000</td>\n",
              "      <td>4755.500000</td>\n",
              "      <td>1526.000000</td>\n",
              "      <td>816.500000</td>\n",
              "      <td>965.500000</td>\n",
              "    </tr>\n",
              "    <tr>\n",
              "      <th>75%</th>\n",
              "      <td>2.000000</td>\n",
              "      <td>3.000000</td>\n",
              "      <td>16933.750000</td>\n",
              "      <td>7190.250000</td>\n",
              "      <td>10655.750000</td>\n",
              "      <td>3554.250000</td>\n",
              "      <td>3922.000000</td>\n",
              "      <td>1820.250000</td>\n",
              "    </tr>\n",
              "    <tr>\n",
              "      <th>max</th>\n",
              "      <td>2.000000</td>\n",
              "      <td>3.000000</td>\n",
              "      <td>112151.000000</td>\n",
              "      <td>73498.000000</td>\n",
              "      <td>92780.000000</td>\n",
              "      <td>60869.000000</td>\n",
              "      <td>40827.000000</td>\n",
              "      <td>47943.000000</td>\n",
              "    </tr>\n",
              "  </tbody>\n",
              "</table>\n",
              "</div>\n",
              "      <button class=\"colab-df-convert\" onclick=\"convertToInteractive('df-cd27dfcb-c1c0-47c9-a770-e955aa85a495')\"\n",
              "              title=\"Convert this dataframe to an interactive table.\"\n",
              "              style=\"display:none;\">\n",
              "        \n",
              "  <svg xmlns=\"http://www.w3.org/2000/svg\" height=\"24px\"viewBox=\"0 0 24 24\"\n",
              "       width=\"24px\">\n",
              "    <path d=\"M0 0h24v24H0V0z\" fill=\"none\"/>\n",
              "    <path d=\"M18.56 5.44l.94 2.06.94-2.06 2.06-.94-2.06-.94-.94-2.06-.94 2.06-2.06.94zm-11 1L8.5 8.5l.94-2.06 2.06-.94-2.06-.94L8.5 2.5l-.94 2.06-2.06.94zm10 10l.94 2.06.94-2.06 2.06-.94-2.06-.94-.94-2.06-.94 2.06-2.06.94z\"/><path d=\"M17.41 7.96l-1.37-1.37c-.4-.4-.92-.59-1.43-.59-.52 0-1.04.2-1.43.59L10.3 9.45l-7.72 7.72c-.78.78-.78 2.05 0 2.83L4 21.41c.39.39.9.59 1.41.59.51 0 1.02-.2 1.41-.59l7.78-7.78 2.81-2.81c.8-.78.8-2.07 0-2.86zM5.41 20L4 18.59l7.72-7.72 1.47 1.35L5.41 20z\"/>\n",
              "  </svg>\n",
              "      </button>\n",
              "      \n",
              "  <style>\n",
              "    .colab-df-container {\n",
              "      display:flex;\n",
              "      flex-wrap:wrap;\n",
              "      gap: 12px;\n",
              "    }\n",
              "\n",
              "    .colab-df-convert {\n",
              "      background-color: #E8F0FE;\n",
              "      border: none;\n",
              "      border-radius: 50%;\n",
              "      cursor: pointer;\n",
              "      display: none;\n",
              "      fill: #1967D2;\n",
              "      height: 32px;\n",
              "      padding: 0 0 0 0;\n",
              "      width: 32px;\n",
              "    }\n",
              "\n",
              "    .colab-df-convert:hover {\n",
              "      background-color: #E2EBFA;\n",
              "      box-shadow: 0px 1px 2px rgba(60, 64, 67, 0.3), 0px 1px 3px 1px rgba(60, 64, 67, 0.15);\n",
              "      fill: #174EA6;\n",
              "    }\n",
              "\n",
              "    [theme=dark] .colab-df-convert {\n",
              "      background-color: #3B4455;\n",
              "      fill: #D2E3FC;\n",
              "    }\n",
              "\n",
              "    [theme=dark] .colab-df-convert:hover {\n",
              "      background-color: #434B5C;\n",
              "      box-shadow: 0px 1px 3px 1px rgba(0, 0, 0, 0.15);\n",
              "      filter: drop-shadow(0px 1px 2px rgba(0, 0, 0, 0.3));\n",
              "      fill: #FFFFFF;\n",
              "    }\n",
              "  </style>\n",
              "\n",
              "      <script>\n",
              "        const buttonEl =\n",
              "          document.querySelector('#df-cd27dfcb-c1c0-47c9-a770-e955aa85a495 button.colab-df-convert');\n",
              "        buttonEl.style.display =\n",
              "          google.colab.kernel.accessAllowed ? 'block' : 'none';\n",
              "\n",
              "        async function convertToInteractive(key) {\n",
              "          const element = document.querySelector('#df-cd27dfcb-c1c0-47c9-a770-e955aa85a495');\n",
              "          const dataTable =\n",
              "            await google.colab.kernel.invokeFunction('convertToInteractive',\n",
              "                                                     [key], {});\n",
              "          if (!dataTable) return;\n",
              "\n",
              "          const docLinkHtml = 'Like what you see? Visit the ' +\n",
              "            '<a target=\"_blank\" href=https://colab.research.google.com/notebooks/data_table.ipynb>data table notebook</a>'\n",
              "            + ' to learn more about interactive tables.';\n",
              "          element.innerHTML = '';\n",
              "          dataTable['output_type'] = 'display_data';\n",
              "          await google.colab.output.renderOutput(dataTable, element);\n",
              "          const docLink = document.createElement('div');\n",
              "          docLink.innerHTML = docLinkHtml;\n",
              "          element.appendChild(docLink);\n",
              "        }\n",
              "      </script>\n",
              "    </div>\n",
              "  </div>\n",
              "  "
            ]
          },
          "metadata": {},
          "execution_count": 8
        }
      ]
    },
    {
      "cell_type": "code",
      "source": [
        "sns.set(font_scale=1.3, rc={'figure.figsize':(20,20)})\n",
        "ax=df.hist(bins=20,color='blue' )"
      ],
      "metadata": {
        "colab": {
          "base_uri": "https://localhost:8080/",
          "height": 1000
        },
        "id": "4_2k2NXfgePi",
        "outputId": "32b76556-815a-4784-8a07-240c60405bab"
      },
      "execution_count": 9,
      "outputs": [
        {
          "output_type": "display_data",
          "data": {
            "text/plain": [
              "<Figure size 1440x1440 with 9 Axes>"
            ],
            "image/png": "[encoded data removed]"
          },
          "metadata": {}
        }
      ]
    },
    {
      "cell_type": "code",
      "source": [
        "for col in df:\n",
        "    print('\\n%s column: '%col)\n",
        "    print(df[col].nunique())"
      ],
      "metadata": {
        "colab": {
          "base_uri": "https://localhost:8080/"
        },
        "id": "eRSKrFmZgq4e",
        "outputId": "b8f3708f-200c-465c-f8a2-43f23b739f31"
      },
      "execution_count": 10,
      "outputs": [
        {
          "output_type": "stream",
          "name": "stdout",
          "text": [
            "\n",
            "Channel column: \n",
            "2\n",
            "\n",
            "Region column: \n",
            "3\n",
            "\n",
            "Fresh column: \n",
            "433\n",
            "\n",
            "Milk column: \n",
            "421\n",
            "\n",
            "Grocery column: \n",
            "430\n",
            "\n",
            "Frozen column: \n",
            "426\n",
            "\n",
            "Detergents_Paper column: \n",
            "417\n",
            "\n",
            "Delicassen column: \n",
            "403\n"
          ]
        }
      ]
    },
    {
      "cell_type": "code",
      "source": [
        "for col in df:\n",
        "    print('\\n%s column: '%col)\n",
        "    print(df[col].unique())"
      ],
      "metadata": {
        "colab": {
          "base_uri": "https://localhost:8080/"
        },
        "id": "CFFEPNkPgeNN",
        "outputId": "b5d2c658-4618-48f4-ce6a-6b6321b78b2c"
      },
      "execution_count": 11,
      "outputs": [
        {
          "output_type": "stream",
          "name": "stdout",
          "text": [
            "\n",
            "Channel column: \n",
            "[2 1]\n",
            "\n",
            "Region column: \n",
            "[3 1 2]\n",
            "\n",
            "Fresh column: \n",
            "[ 12669   7057   6353  13265  22615   9413  12126   7579   5963   6006\n",
            "   3366  13146  31714  21217  24653  10253   1020   5876  18601   7780\n",
            "  17546   5567  31276  26373  22647  16165   9898  14276   4113  43088\n",
            "  18815   2612  21632  29729   1502    688  29955  15168   4591  56159\n",
            "  24025  19176  10850    630   9670   5181   3103  44466  11519   4967\n",
            "   6269   3347  40721    491  27329   5264   4098   5417  13779   6137\n",
            "   8590  35942   7823   9396   4760     85      9  19913   2446   8352\n",
            "  16705  18291   4420  19899   8190  20398    717  12205  10766   1640\n",
            "   7005    219  10362  20874  11867  16117  22925  43265   7864  24904\n",
            "  11405  12754   9198  11314   5626      3     23    403    503   9658\n",
            "  11594   1420   2932  56082  14100  15587   1454   8797   1531   1406\n",
            "  11818  12579  19046  14438  18044  11134  11173   6990  20049   8258\n",
            "  17160   4020  12212  11170  36050  76237  19219  21465    140  42312\n",
            "   7149   2101  14903   9434   7388   6300   4625   3087  13537   5387\n",
            "  17623  30379  37036  10405  18827  22039   7769   9203   5924  31812\n",
            "  16225   1289  18840   3463    622   1989   3830  17773   2861    355\n",
            "   1725  12434  15177   5531   5224  15615   4822   2926   5809   5414\n",
            "    260    200    955    514    286   2343  45640  12759  11002   3157\n",
            "  12356 112151    694  36847    327   8170   3009   2438   8040    834\n",
            "  16936  13624   5509    180   7107  17023  30624   2427  11686   3067\n",
            "   4484  25203    583   1956   1107   6373   2541   1537   5550  18567\n",
            "  12119   7291   3317   2362   2806   2532     18   4155  14755   5396\n",
            "   5041   2790   7274  12680  20782   4042   1869   8656  11072   2344\n",
            "  25962    964  15603   1838   8635  18692   7363  47493  22096  24929\n",
            "  18226  11210   6202   3062   8885  13569  15671   3191   6134   6623\n",
            "  29526  10379  31614  11092   8475  56083  53205   9193   7858  23257\n",
            "   2153   1073   5909    572  20893  11908  15218   4720   2083  36817\n",
            "    894    680  27901   9061  11693  17360  12238  49063  25767  68951\n",
            "  40254  15354  16260  42786   2708   6022   2838   3996  21273   7588\n",
            "  19087   8090   6758    444  16448   5283   2886   2599    161    243\n",
            "   6468  17327   6987    918   7034  29635   2137   9784  10617   1479\n",
            "   7127   1182  11800   9759   1774   9155  15881  13360  25977  32717\n",
            "   4414    542  16933   5113   9790  11223  22321   8565  16823  27082\n",
            "  13970   9351   2617    381   2320    255   1689   3043   1198   2771\n",
            "  27380   3428   5981   3521   1210    608    117  14039    190  22686\n",
            "     37    759    796  19746   4734   2121   4627   2615   4692   9561\n",
            "   3477  22335   6211  39679  20105   3884  15076   6338   5841   3136\n",
            "  38793   3225   4048  28257  17770  34454   1821  10683  11635   1206\n",
            "  20918   9785   9385   3352   2647    518  23632  12377   9602   4515\n",
            "  11535  11442   9612   4446  27167  26539  25606  18073   6884  25066\n",
            "   7362   8257   8708   6633   2126     97   4983   5969   7842   4389\n",
            "   5065    660   8861   4456  17063  26400  17565  16980  11243  13134\n",
            "  31012   3047   8607   3097   8533  21117   1982  16731  29703  39228\n",
            "  14531  10290   2787]\n",
            "\n",
            "Milk column: \n",
            "[ 9656  9810  8808  1196  5410  8259  3199  4956  3648 11093  5403  1124\n",
            " 12319  6208  9465  1114  8816  6157  6327  2495  4519   871  1917 36423\n",
            "  9776  4230   961   803 20484  2100  3610  4339  1318  4786  1979  5491\n",
            "  4362 10556 15729   555  4332  3065  7555 11095  7027 22044 14069 54259\n",
            "  6152 21412  1095  4051  3916 10473  1449  3683 29892  9933  1970  5360\n",
            "  3045 38369  6245 11601  1227 20959  1534  6759  7260  2820  2037  1266\n",
            "  5139  5332  6343  1137  3587 12697  1175  3259   829  9540  9232  1563\n",
            "  3327 46197 73498  5025   542  3836   596  2762 27472  3090 12220  2920\n",
            "  2616   254   112  2182  7779 10810  6459  3504  2132  1014  6337 10646\n",
            "  8397 16729  1648 11114  2770  2295  1080   793  2521  3880  1891  2344\n",
            "  1200  3234   201 10769  1642  3473  1840  7243  8847   926  2428   589\n",
            "  2032  1042  1882  1289  8579  8080  4257  4979  4280 13252  7152  1596\n",
            "  3677  8384  1936  3373   584  1433  1825  3328  1371  9250    55 10690\n",
            "  5291  1366  6570  7704  3651   540  2024 15726  7603 12653  6721  3195\n",
            "   735   717  8675 25862  5479  7677  1208  7845  6958  7330  7075  4888\n",
            "  6036 29627  8533 43950   918  6448   521  8002  7639 11577  6250   295\n",
            "  1461  3485  1012  7209  7097  2154  2280 13240 14399 11487   685   891\n",
            " 11711   780  4737  3748 12729  1895 28326  6602  6551 10765 16599  1475\n",
            "  7504   367   899  7503  1115  2527   659  3243  5921  2204   577  2746\n",
            "  5989 10678  1780  4984  2703  6380   820  3838   475  2567  3575  1801\n",
            "  3576  7775  6154   346  5279  3795  1993 23133  1860  7961 17972   489\n",
            "  5008  1931  4563  4959  4885  1110  1372  9679 23527  9763  1222  8053\n",
            "   258  1032  5007  8323  1703  1610  3749  2317  6200  2884  7108  3965\n",
            "  3613  4411   640  2247  2102   594   286  2160  3354  3086 11103  2013\n",
            "  1897  1304  4560   879  6243 13316  5302  3688  7460 12939 12867  2374\n",
            "  1020 20655  1492  2335  3737   925  1795 14982  1375  3088  2713 25071\n",
            "  3696   713   944 16784  2209  1486  1786 14881  3216  4980   928  6817\n",
            "  1511  1347   333  1188  4025  5763  5758  6964  1172  2602  6939  7184\n",
            "  2380 14641  1099 10044  1106  6264  7393   727   134  1275 18664  5878\n",
            "  2872   607  1601   997   873  6128  2217   894   337  3944  1887  3801\n",
            "  6257  2256  1450  8630  3154  3294  5164  4591  7435  1364 21858   922\n",
            "  3620  1916   848  1530  1181  2761  4180  6730   865  1316 11991  1666\n",
            "   906  2801  4753 11006  4613  1046  5010 12844  3634  2096  3289  3605\n",
            "  4859  1990  6046 10940  5499  8494  3783  5266  4847  1377  3686  2408\n",
            "  9347 16687  5970  1750  5506  1162  3218  3922 12051  1431 15488  1981\n",
            "  1698]\n",
            "\n",
            "Grocery column: \n",
            "[ 7561  9568  7684  4221  7198  5126  6975  9426  6192 18881 12974  4523\n",
            " 11757 14982 12091  3821 12121  2933 10099  9464  4602  2010  4469 22019\n",
            " 13792  7595  2861  3045 25957  2609 11107  3133  2886  7326  2262 11091\n",
            "  5428 12477 16709   902  4757  5956 14961 23998 10471 21531 21955 55571\n",
            " 10868 28921  1980  6996  5876 11532  1947  5005 26866 10487  1648  8040\n",
            "  7854 59598  6544 15775  3250 45828  7417 13462  3993  1293  3202 21042\n",
            "  2661  8713  9794     3  6532 28540  2067  3655  3009 14403 11009  1783\n",
            "  4814 92780 32114  8117  4042  5330  1638  2530 32034  2062 11323  6252\n",
            "  8118   610   778  1909 12144 16267  7677  8906  3445  3970 10704 14886\n",
            "  6981 28986  1694 17569  2469  1733  2000  2988  3355  5380  2362  2147\n",
            "  3412  1498   245  8814  2961  7102  1658 10685  3823  1510   699   314\n",
            "  2479  1235  2174  2591  7030  8282  5034  3343  7305  5189  8253  1096\n",
            "  1988 34792  2177  2707   542  1651  1765  2022  3135  2368   137 19460\n",
            " 14855  2474  9618 14682 12822   283  3810 26870  8584 19858  9170  3268\n",
            "   803  2155 13430 19816  6536 19805  5241 11874  4533  4945  2500  8887\n",
            " 18148 10518 20170  4710  1139   854  9819 11687 11522  1981  1381  2251\n",
            " 20292  2974  5230  4897 10391  6824  2112 23127 24708  9490  2216  5226\n",
            " 23596   950  6089  5838 16767  1393 39694  6861 11364 15538 36486  2046\n",
            " 15205  1390  1382 10646  2856  5265  1499  4157  9212  1563   572  2501\n",
            "  5615  3828  3838  3316  3833  2824  3047   593   585  3779  7041  2475\n",
            "  2914  5119 10817 13916  1777   489  2406  2070  1799 33586  4740 16966\n",
            "  4748  1495  5249  1883  2124  7336  2157  1094  1677  6684 15445 13699\n",
            " 22182  2576 19847  1138   975  6869  1493  1841   223  6964   683  2543\n",
            "  9694  2431  6235  4252  2013 12609  3600  1242  2828  1296   471  2642\n",
            "  3261  4329 12469  6550  5234  3643  6986  9965  2060  6360 20399  9785\n",
            " 13829 24773  8852 21570  2842  3007 13567  2405  8280 19172  7647 11924\n",
            "  2201  6114  3558 17645  2280  5167  3315 11593  2464 13626  1431  1664\n",
            "  3389  4583  5109 26839  1447 67298  2743 10790  1330  2611  7021  5332\n",
            "  9670 11238  5923 26316  1763  8335 15541 12311  2028 20521  1997 22294\n",
            "  1533 21203  2548  2012   218 22272  1660  2109  2006   864  2453  4438\n",
            "  1524  8025   534  4955  1939  1641  7398  1668  1162 13586  2648  1902\n",
            "  2146  1617  8469  3450 15400  1614  2857  1573  1172  1422  1328  2313\n",
            "  3842  3204  1263  9345  1428   582   935  1238  2128  5091  4604  3444\n",
            "  1167  5026 18683  6407  6100  4563  3281 12400  6633  3417  8552 10908\n",
            " 11055 18622  2223 13227  9053  4172  4657 12232  2593 14316  5429  4910\n",
            "  3580 16483  5160  4754  7994 16027   764 30243  2232  2510]\n",
            "\n",
            "Frozen column: \n",
            "[  214  1762  2405  6404  3915   666   480  1669   425  1159  4400  1420\n",
            "   287  3095   294   397   134   839  2205   669  1066  3383  9408  5154\n",
            "  2915   201  3151   485  1158  1200  1148  2088   266  6130   833  1729\n",
            "  1920    33 10002  9510  2033   188   787   541  1740  1668  7782   584\n",
            "  1798  3860   239   532   744  2436  1057  2616    38   596   129    96\n",
            "  3254  4154  2896  3724    36   175  1256  5870   779 10643  5373  8872\n",
            "  8132  1285  4407  7530   869  2096   868   430   283   737  2320  1178\n",
            "  1026   987  6312  9735  3443  3347  8693  3232 35009   206   440   145\n",
            "   774   895  5639  3252  1593  2561 18028  1336   910   133  2471   247\n",
            "   673  2276   805  8853  3220  2555  2715  1517  1647  5343  3896  2417\n",
            "  2395  1991  2194  4787 16538  8195   880   142  1718  6316   346   576\n",
            "   436   720  1170  4575   661   155   825  2279   321  2995  8425   118\n",
            "    42   926  1286  4052   800   853   531  3001    75   233   317  3378\n",
            "   930   398   824  1092  2665  2367  2540  4425   993   405  1393  2399\n",
            "  1116   651   333   937  2515    52  7368  1752  1152  4477   402 16745\n",
            "   443 36534    74  2181  3470  6269  2758   275  7332   890   547   959\n",
            "   806  7888 18711  1127  3527   520  3941  3549  5065   469  1383   955\n",
            "   878  2946  1859   864  1801  4736  1291  1329   913  1374   179  2532\n",
            "  2306  1765    91  7496  5612   784   660  1759  2286   950  6845  8321\n",
            "  1439   638  4260  1218  2312  4634  1112  5243 11422  2216  3752   561\n",
            "  1183   230  1777  2077   559  6340  1730  6746  7683   432  4686  3242\n",
            "   453  5004  6422  3012   327  6818   982  4324    61 10155  2221  3975\n",
            "  1069  2516  5500  1120   529  4802   862  4479 16919  5845  1293   977\n",
            "  1093  5970 10303  8692  1042  1619  8366   848  1388   502  2507  3838\n",
            "   902   909   417  3045  1455   934   264  1809   364   492   617   799\n",
            "  1840  1149   416  1465 12569  3046  1274  4447  1483   662  2679   978\n",
            "  2121  1128   514  2714  3703   915  2369 60869  3498   414  7849  5127\n",
            "  3570  1234  2208   131 11559  1365   650  8170 15601  9584   388   767\n",
            "   349  1456  2234  2693  2809  1341  2005  1796  1741   830   228  6386\n",
            "   245  3157   137  6114   340  2601  1206   560   191  1103  1173  1457\n",
            "  2046  1089  1364  8164   876  1504  1492   597  5641  1034   282   130\n",
            "  3881  9927  4006  3635  2583  1945  1960  1677  3019  5502   907   659\n",
            "  8620  1398  2921  2644  6838  5390  1601  3576 13223   220   127  2069\n",
            "  9806  2854  1646  2349  1389  1535    98 17866  5679  1691   633    25\n",
            "  1031  1059   874 15348  3141 15082  2198    47   575 13486   269  1541\n",
            "   688 13135  4510   437  1038    65]\n",
            "\n",
            "Detergents_Paper column: \n",
            "[ 2674  3293  3516   507  1777  1795  3140  3321  1716  7425  5977   549\n",
            "  3881  6707  5058   964  4508   370  2767  2518  2259   375  2381  4337\n",
            "  4482  4003   242   100  8604  1107  2134   820   918   361   483  4239\n",
            "   862  6506  6956   212  1145  2575  6899  9529  4618  7353  6792 24171\n",
            "  5121 13583   609  1538  2587  5611   204  2024 17740  7572   227  3084\n",
            "  4095 26701  4074  7677  1247 24231  3468  5141   788   656   116  4173\n",
            "  1321   764  1901     3   529 12034   301  1202   610  7818  3537   550\n",
            "  3837 40827 20070  1579   165   454    69   627 18906    71  5038   223\n",
            "  3874    54    56   215  8035  6766  4573  1480  1491   139  6830  8969\n",
            "  2505   836   169  6457   585   118   276   310   319   411   266   174\n",
            "   264    25  1976   500   778   349  2386  1062   410   395    70   955\n",
            "   256    47   199  2447   721   249   637   960    51    20   399   516\n",
            " 12591    73  1082   283   113   170   255   352   302     7 11577  6694\n",
            "   811  4004  8077  4424   232 13726  3674  7108  4973  1680    79  7015\n",
            "  8773  2840  9836   153  4196  1532   120   273  1382  4948  6907   239\n",
            "   334    58   949  3459  6839  4027    43   187  5618   355   330   763\n",
            "  4314   592   402  9959 14235   284   954     5  9265   288  5316  3381\n",
            " 12420   244 19410   240  3961  5957  5828 13308   130  4797    86  4167\n",
            "   761  2568   263  4762   694  1566   409   325  1216   415    28    72\n",
            "   828   343   412   586  1682  3143  8933   430    44   562   234 18594\n",
            "   205   363  1547   111   392  3593   730   967   780    49   429  2894\n",
            "  5980   830  4882   737  6374   333   197   147    93   210   759    96\n",
            "   603   621   274  3620   167  2328  1041   314   751   436  1226   386\n",
            "   445    32   965   825  5952  2208   710  3712  4538   290  2662  8752\n",
            "  6236 10069 11783  3909  7558   351   257  6846   299   371 17120   183\n",
            "   857  3891    83   821   706 12408   275   228  1470  1679   140  1272\n",
            "   387    88   492   182  9606   178 38102   332  4111   146   442    15\n",
            "   573  7271  5162  4595 15469   217  3843  6600  4621  1184 12218   173\n",
            " 12638    90  8682  1333   184     9  6747   536   468   159   179  1335\n",
            "   514  4515   222   252   101    41   523   716   397  1916   311   476\n",
            "  4666    68   813   600   246  1711   282   192   353   231   200    95\n",
            "   122   385   149   841  3378    64    74   469    92    10   632   914\n",
            "   593  1092  7883  2730  2123  1860   235  2970   912  1135  3540  6728\n",
            "  3485  6740  1580  6818  3415   948  1803  3213   108  5079   439   850\n",
            "    84   241  1377  1328   356  2371 14841   168   477]\n",
            "\n",
            "Delicassen column: \n",
            "[ 1338  1776  7844  1788  5185  1451   545  2566   750  2098  1744   497\n",
            "  2931   602  2168   412  1080  4478  3181   501  2124   569  4334 16523\n",
            "  5778    57   833   518  5206   823  2963   985   405  1083   395   436\n",
            "  4626   714   433  2916  5864  2802    46    72    65  4985  1452  6465\n",
            "  1476  1163  2162   301  1278   224  1333  1130  1340  1282  1603   225\n",
            "  2017   964  1295  1145  1423    27   834  3095   144  1365 14472   181\n",
            "   648  1780   975   894  1009   167  1653   529   156  2342   772   120\n",
            "  2944   903 14351  3178   360  1117  5130  2698   244   709   217    63\n",
            "   132   323  3029  1838  1386  2498   548  1378  1831  1438  1236     3\n",
            "  1647  1519  2708  1561  1266   610   222  1160   933   635  1136   255\n",
            "   860   143  1621   918   483  2749  1819   911   310   328   396   537\n",
            "   326  1542    36  3271   929  2616  1450   318   201  4430   520   526\n",
            "   434  1440  1067  1774   184  1627     8  2153  3182   418  1682   303\n",
            "  2157  2233   446   238  2379  3637   693   429  6250   707   716  1442\n",
            "  1697   230  2631  2165  2794  8550 47943    11   247   727   404  1856\n",
            "    64    84   409   666  1142  1755  2876  1468   697   347   731  1681\n",
            "  6854    18  1328   710   285   806   797  2100  2870  1775  1215   791\n",
            "  2388   674  1158  6372   130   749   239   375  1360   659   786  1553\n",
            "   689   203   980  2137   490     7  2563   295   216  2253  2564  1047\n",
            "   578  2398  1970  2784   572   291  5121  1693  1391  3265   615   373\n",
            "   987  3321   818   287   655   411  1265  3636  3628   698   204    56\n",
            "  1550  1040  1824  1153   379  2503   139  1409  1721  1104  2079  1404\n",
            "  1384  2406   128  1027   258    22  1522   686  1060   741  1854   254\n",
            "   898   531  1037   259  2005   172   555    59  2410   211  1543   925\n",
            "   656   117   142   297  1233  3508  1059  1637    51  1625  1113   229\n",
            "   573  1092  5609   522  1534   739  1043  1102  2602  3486  2139   778\n",
            "   868   550  1942  1371  2158    37  1115  1022   665   445   995  3137\n",
            "   195  1111  2341   127   110  4100   776   503   712   314   468  3105\n",
            "   447   342   558   296  2235   790  4829  3113    70  1426  1242  1114\n",
            "   179   270   532  2893   361  5120  1068   967   961   406   684  1000\n",
            "  1827   654   819   452   290  2213   743  1014  1902   340   288   715\n",
            "   378   960   553   344  5137  1892  4365    62  2435  1874   993  1063\n",
            "  1521  1393  1784  1218   668   249  1886  1894   317  2501  2080  1498\n",
            "  1449   838  2204  2346  1867  2125    52]\n"
          ]
        }
      ]
    },
    {
      "cell_type": "code",
      "source": [
        "plt.figure(figsize=(15,8))\n",
        "sns.boxplot(data=df, orient=\"h\", palette=\"Set2\")"
      ],
      "metadata": {
        "colab": {
          "base_uri": "https://localhost:8080/",
          "height": 506
        },
        "id": "nJceqSbcpHmF",
        "outputId": "46a41dcb-cbbf-47df-9254-965a0d096a9e"
      },
      "execution_count": 12,
      "outputs": [
        {
          "output_type": "execute_result",
          "data": {
            "text/plain": [
              "<matplotlib.axes._subplots.AxesSubplot at 0x7f6cfd9038d0>"
            ]
          },
          "metadata": {},
          "execution_count": 12
        },
        {
          "output_type": "display_data",
          "data": {
            "text/plain": [
              "<Figure size 1080x576 with 1 Axes>"
            ],
            "image/png": "[encoded data removed]"
          },
          "metadata": {}
        }
      ]
    },
    {
      "cell_type": "markdown",
      "source": [
        "Outliers are present in columns 'Fresh', 'Milk', 'Grocery', 'Frozen', 'Detergents_Paper', 'Delicassen'  not removing the outlier, keeping aside"
      ],
      "metadata": {
        "id": "dsyR_lJ5qH8P"
      }
    },
    {
      "cell_type": "code",
      "source": [
        "df.corr()\n"
      ],
      "metadata": {
        "colab": {
          "base_uri": "https://localhost:8080/",
          "height": 300
        },
        "id": "gZoK4QJIqchE",
        "outputId": "8dcfc49b-573a-47a0-80f5-ae093cf61e57"
      },
      "execution_count": 13,
      "outputs": [
        {
          "output_type": "execute_result",
          "data": {
            "text/plain": [
              "                   Channel    Region     Fresh      Milk   Grocery    Frozen  \\\n",
              "Channel           1.000000  0.062028 -0.169172  0.460720  0.608792 -0.202046   \n",
              "Region            0.062028  1.000000  0.055287  0.032288  0.007696 -0.021044   \n",
              "Fresh            -0.169172  0.055287  1.000000  0.100510 -0.011854  0.345881   \n",
              "Milk              0.460720  0.032288  0.100510  1.000000  0.728335  0.123994   \n",
              "Grocery           0.608792  0.007696 -0.011854  0.728335  1.000000 -0.040193   \n",
              "Frozen           -0.202046 -0.021044  0.345881  0.123994 -0.040193  1.000000   \n",
              "Detergents_Paper  0.636026 -0.001483 -0.101953  0.661816  0.924641 -0.131525   \n",
              "Delicassen        0.056011  0.045212  0.244690  0.406368  0.205497  0.390947   \n",
              "\n",
              "                  Detergents_Paper  Delicassen  \n",
              "Channel                   0.636026    0.056011  \n",
              "Region                   -0.001483    0.045212  \n",
              "Fresh                    -0.101953    0.244690  \n",
              "Milk                      0.661816    0.406368  \n",
              "Grocery                   0.924641    0.205497  \n",
              "Frozen                   -0.131525    0.390947  \n",
              "Detergents_Paper          1.000000    0.069291  \n",
              "Delicassen                0.069291    1.000000  "
            ],
            "text/html": [
              "\n",
              "  <div id=\"df-16f7003f-0f4f-4b24-9d4d-4a8e48eb75b7\">\n",
              "    <div class=\"colab-df-container\">\n",
              "      <div>\n",
              "<style scoped>\n",
              "    .dataframe tbody tr th:only-of-type {\n",
              "        vertical-align: middle;\n",
              "    }\n",
              "\n",
              "    .dataframe tbody tr th {\n",
              "        vertical-align: top;\n",
              "    }\n",
              "\n",
              "    .dataframe thead th {\n",
              "        text-align: right;\n",
              "    }\n",
              "</style>\n",
              "<table border=\"1\" class=\"dataframe\">\n",
              "  <thead>\n",
              "    <tr style=\"text-align: right;\">\n",
              "      <th></th>\n",
              "      <th>Channel</th>\n",
              "      <th>Region</th>\n",
              "      <th>Fresh</th>\n",
              "      <th>Milk</th>\n",
              "      <th>Grocery</th>\n",
              "      <th>Frozen</th>\n",
              "      <th>Detergents_Paper</th>\n",
              "      <th>Delicassen</th>\n",
              "    </tr>\n",
              "  </thead>\n",
              "  <tbody>\n",
              "    <tr>\n",
              "      <th>Channel</th>\n",
              "      <td>1.000000</td>\n",
              "      <td>0.062028</td>\n",
              "      <td>-0.169172</td>\n",
              "      <td>0.460720</td>\n",
              "      <td>0.608792</td>\n",
              "      <td>-0.202046</td>\n",
              "      <td>0.636026</td>\n",
              "      <td>0.056011</td>\n",
              "    </tr>\n",
              "    <tr>\n",
              "      <th>Region</th>\n",
              "      <td>0.062028</td>\n",
              "      <td>1.000000</td>\n",
              "      <td>0.055287</td>\n",
              "      <td>0.032288</td>\n",
              "      <td>0.007696</td>\n",
              "      <td>-0.021044</td>\n",
              "      <td>-0.001483</td>\n",
              "      <td>0.045212</td>\n",
              "    </tr>\n",
              "    <tr>\n",
              "      <th>Fresh</th>\n",
              "      <td>-0.169172</td>\n",
              "      <td>0.055287</td>\n",
              "      <td>1.000000</td>\n",
              "      <td>0.100510</td>\n",
              "      <td>-0.011854</td>\n",
              "      <td>0.345881</td>\n",
              "      <td>-0.101953</td>\n",
              "      <td>0.244690</td>\n",
              "    </tr>\n",
              "    <tr>\n",
              "      <th>Milk</th>\n",
              "      <td>0.460720</td>\n",
              "      <td>0.032288</td>\n",
              "      <td>0.100510</td>\n",
              "      <td>1.000000</td>\n",
              "      <td>0.728335</td>\n",
              "      <td>0.123994</td>\n",
              "      <td>0.661816</td>\n",
              "      <td>0.406368</td>\n",
              "    </tr>\n",
              "    <tr>\n",
              "      <th>Grocery</th>\n",
              "      <td>0.608792</td>\n",
              "      <td>0.007696</td>\n",
              "      <td>-0.011854</td>\n",
              "      <td>0.728335</td>\n",
              "      <td>1.000000</td>\n",
              "      <td>-0.040193</td>\n",
              "      <td>0.924641</td>\n",
              "      <td>0.205497</td>\n",
              "    </tr>\n",
              "    <tr>\n",
              "      <th>Frozen</th>\n",
              "      <td>-0.202046</td>\n",
              "      <td>-0.021044</td>\n",
              "      <td>0.345881</td>\n",
              "      <td>0.123994</td>\n",
              "      <td>-0.040193</td>\n",
              "      <td>1.000000</td>\n",
              "      <td>-0.131525</td>\n",
              "      <td>0.390947</td>\n",
              "    </tr>\n",
              "    <tr>\n",
              "      <th>Detergents_Paper</th>\n",
              "      <td>0.636026</td>\n",
              "      <td>-0.001483</td>\n",
              "      <td>-0.101953</td>\n",
              "      <td>0.661816</td>\n",
              "      <td>0.924641</td>\n",
              "      <td>-0.131525</td>\n",
              "      <td>1.000000</td>\n",
              "      <td>0.069291</td>\n",
              "    </tr>\n",
              "    <tr>\n",
              "      <th>Delicassen</th>\n",
              "      <td>0.056011</td>\n",
              "      <td>0.045212</td>\n",
              "      <td>0.244690</td>\n",
              "      <td>0.406368</td>\n",
              "      <td>0.205497</td>\n",
              "      <td>0.390947</td>\n",
              "      <td>0.069291</td>\n",
              "      <td>1.000000</td>\n",
              "    </tr>\n",
              "  </tbody>\n",
              "</table>\n",
              "</div>\n",
              "      <button class=\"colab-df-convert\" onclick=\"convertToInteractive('df-16f7003f-0f4f-4b24-9d4d-4a8e48eb75b7')\"\n",
              "              title=\"Convert this dataframe to an interactive table.\"\n",
              "              style=\"display:none;\">\n",
              "        \n",
              "  <svg xmlns=\"http://www.w3.org/2000/svg\" height=\"24px\"viewBox=\"0 0 24 24\"\n",
              "       width=\"24px\">\n",
              "    <path d=\"M0 0h24v24H0V0z\" fill=\"none\"/>\n",
              "    <path d=\"M18.56 5.44l.94 2.06.94-2.06 2.06-.94-2.06-.94-.94-2.06-.94 2.06-2.06.94zm-11 1L8.5 8.5l.94-2.06 2.06-.94-2.06-.94L8.5 2.5l-.94 2.06-2.06.94zm10 10l.94 2.06.94-2.06 2.06-.94-2.06-.94-.94-2.06-.94 2.06-2.06.94z\"/><path d=\"M17.41 7.96l-1.37-1.37c-.4-.4-.92-.59-1.43-.59-.52 0-1.04.2-1.43.59L10.3 9.45l-7.72 7.72c-.78.78-.78 2.05 0 2.83L4 21.41c.39.39.9.59 1.41.59.51 0 1.02-.2 1.41-.59l7.78-7.78 2.81-2.81c.8-.78.8-2.07 0-2.86zM5.41 20L4 18.59l7.72-7.72 1.47 1.35L5.41 20z\"/>\n",
              "  </svg>\n",
              "      </button>\n",
              "      \n",
              "  <style>\n",
              "    .colab-df-container {\n",
              "      display:flex;\n",
              "      flex-wrap:wrap;\n",
              "      gap: 12px;\n",
              "    }\n",
              "\n",
              "    .colab-df-convert {\n",
              "      background-color: #E8F0FE;\n",
              "      border: none;\n",
              "      border-radius: 50%;\n",
              "      cursor: pointer;\n",
              "      display: none;\n",
              "      fill: #1967D2;\n",
              "      height: 32px;\n",
              "      padding: 0 0 0 0;\n",
              "      width: 32px;\n",
              "    }\n",
              "\n",
              "    .colab-df-convert:hover {\n",
              "      background-color: #E2EBFA;\n",
              "      box-shadow: 0px 1px 2px rgba(60, 64, 67, 0.3), 0px 1px 3px 1px rgba(60, 64, 67, 0.15);\n",
              "      fill: #174EA6;\n",
              "    }\n",
              "\n",
              "    [theme=dark] .colab-df-convert {\n",
              "      background-color: #3B4455;\n",
              "      fill: #D2E3FC;\n",
              "    }\n",
              "\n",
              "    [theme=dark] .colab-df-convert:hover {\n",
              "      background-color: #434B5C;\n",
              "      box-shadow: 0px 1px 3px 1px rgba(0, 0, 0, 0.15);\n",
              "      filter: drop-shadow(0px 1px 2px rgba(0, 0, 0, 0.3));\n",
              "      fill: #FFFFFF;\n",
              "    }\n",
              "  </style>\n",
              "\n",
              "      <script>\n",
              "        const buttonEl =\n",
              "          document.querySelector('#df-16f7003f-0f4f-4b24-9d4d-4a8e48eb75b7 button.colab-df-convert');\n",
              "        buttonEl.style.display =\n",
              "          google.colab.kernel.accessAllowed ? 'block' : 'none';\n",
              "\n",
              "        async function convertToInteractive(key) {\n",
              "          const element = document.querySelector('#df-16f7003f-0f4f-4b24-9d4d-4a8e48eb75b7');\n",
              "          const dataTable =\n",
              "            await google.colab.kernel.invokeFunction('convertToInteractive',\n",
              "                                                     [key], {});\n",
              "          if (!dataTable) return;\n",
              "\n",
              "          const docLinkHtml = 'Like what you see? Visit the ' +\n",
              "            '<a target=\"_blank\" href=https://colab.research.google.com/notebooks/data_table.ipynb>data table notebook</a>'\n",
              "            + ' to learn more about interactive tables.';\n",
              "          element.innerHTML = '';\n",
              "          dataTable['output_type'] = 'display_data';\n",
              "          await google.colab.output.renderOutput(dataTable, element);\n",
              "          const docLink = document.createElement('div');\n",
              "          docLink.innerHTML = docLinkHtml;\n",
              "          element.appendChild(docLink);\n",
              "        }\n",
              "      </script>\n",
              "    </div>\n",
              "  </div>\n",
              "  "
            ]
          },
          "metadata": {},
          "execution_count": 13
        }
      ]
    },
    {
      "cell_type": "code",
      "source": [
        "print('Correlation Heat map of the data')\n",
        "plt.figure(figsize=(10,6))\n",
        "sns.heatmap(df.corr(),annot=True,fmt='.2f',vmin=-1,vmax=1,cmap='Spectral')\n",
        "plt.show()"
      ],
      "metadata": {
        "colab": {
          "base_uri": "https://localhost:8080/",
          "height": 516
        },
        "id": "Fmxlsd-Usm6z",
        "outputId": "f609af31-b388-411e-8d4e-3bdc0d41623c"
      },
      "execution_count": 14,
      "outputs": [
        {
          "output_type": "stream",
          "name": "stdout",
          "text": [
            "Correlation Heat map of the data\n"
          ]
        },
        {
          "output_type": "display_data",
          "data": {
            "text/plain": [
              "<Figure size 720x432 with 2 Axes>"
            ],
            "image/png": "[encoded data removed]"
          },
          "metadata": {}
        }
      ]
    },
    {
      "cell_type": "markdown",
      "source": [
        "# **MODELLING **"
      ],
      "metadata": {
        "id": "tzXFx0Gpo196"
      }
    },
    {
      "cell_type": "code",
      "source": [
        "#Applying K-means clustering on main dataset\n",
        "y=[]\n",
        "for km in np.arange(2,10):\n",
        "    kmeans = KMeans( n_clusters = km, init='k-means++',random_state=42)\n",
        "    kmeans.fit(df)\n",
        "    y.append(kmeans.inertia_)"
      ],
      "metadata": {
        "id": "Wxe_aNvugeHM"
      },
      "execution_count": 15,
      "outputs": []
    },
    {
      "cell_type": "code",
      "source": [
        "plt.figure(figsize=(12,6))\n",
        "plt.plot(np.arange(2,10),y,'o-' )\n",
        "plt.xlabel('n_Cluster')\n",
        "plt.ylabel('Inertia')\n",
        "plt.show()"
      ],
      "metadata": {
        "colab": {
          "base_uri": "https://localhost:8080/",
          "height": 415
        },
        "id": "9mbhpPwdgeEJ",
        "outputId": "b5c9c92f-1fc3-4b52-a90a-df6fd38bc1e6"
      },
      "execution_count": 16,
      "outputs": [
        {
          "output_type": "display_data",
          "data": {
            "text/plain": [
              "<Figure size 864x432 with 1 Axes>"
            ],
            "image/png": "[encoded data removed]"
          },
          "metadata": {}
        }
      ]
    },
    {
      "cell_type": "code",
      "source": [
        "kmean_model=KMeans(n_clusters=3,init='k-means++',random_state=42)\n",
        "kmean_model.fit(df)\n",
        "predict=kmean_model.predict(df)"
      ],
      "metadata": {
        "id": "RSbMhfGnhsR-"
      },
      "execution_count": 17,
      "outputs": []
    },
    {
      "cell_type": "code",
      "source": [
        "predict"
      ],
      "metadata": {
        "colab": {
          "base_uri": "https://localhost:8080/"
        },
        "id": "5Kbzv4AfhukK",
        "outputId": "9b0750f5-01c5-402f-eec0-0d52c483b277"
      },
      "execution_count": 18,
      "outputs": [
        {
          "output_type": "execute_result",
          "data": {
            "text/plain": [
              "array([1, 1, 1, 1, 0, 1, 1, 1, 1, 2, 1, 1, 0, 1, 0, 1, 1, 1, 1, 1, 1, 1,\n",
              "       0, 2, 0, 1, 1, 1, 2, 0, 1, 1, 1, 0, 1, 1, 0, 1, 2, 0, 0, 1, 1, 2,\n",
              "       1, 2, 2, 2, 1, 2, 1, 1, 0, 1, 0, 1, 2, 1, 1, 1, 1, 2, 1, 1, 1, 2,\n",
              "       1, 1, 1, 1, 1, 1, 1, 1, 1, 1, 1, 2, 1, 1, 1, 1, 1, 1, 1, 2, 2, 0,\n",
              "       1, 0, 1, 1, 2, 1, 1, 1, 1, 1, 1, 1, 1, 1, 1, 0, 1, 1, 1, 1, 1, 2,\n",
              "       1, 2, 1, 1, 1, 1, 1, 1, 1, 1, 1, 1, 1, 1, 0, 0, 1, 1, 1, 0, 1, 1,\n",
              "       1, 1, 1, 1, 1, 1, 1, 1, 1, 0, 0, 1, 1, 2, 1, 1, 1, 0, 1, 1, 1, 1,\n",
              "       1, 2, 1, 1, 1, 1, 1, 1, 1, 2, 1, 2, 1, 1, 1, 1, 1, 2, 1, 2, 1, 1,\n",
              "       0, 1, 1, 1, 1, 0, 1, 0, 1, 1, 1, 1, 1, 1, 1, 1, 1, 1, 1, 1, 0, 1,\n",
              "       1, 1, 2, 2, 0, 1, 1, 2, 1, 1, 1, 2, 1, 2, 1, 1, 1, 1, 2, 1, 1, 1,\n",
              "       1, 1, 1, 1, 1, 1, 1, 1, 1, 1, 1, 1, 0, 1, 1, 1, 1, 1, 1, 0, 0, 0,\n",
              "       1, 1, 1, 1, 1, 1, 1, 1, 1, 2, 1, 0, 1, 0, 1, 1, 0, 0, 1, 1, 0, 1,\n",
              "       1, 2, 2, 1, 2, 1, 1, 1, 1, 0, 1, 1, 0, 1, 1, 1, 1, 1, 0, 0, 0, 0,\n",
              "       1, 1, 1, 0, 1, 1, 1, 1, 1, 1, 1, 1, 1, 1, 1, 2, 1, 1, 2, 1, 2, 1,\n",
              "       1, 2, 1, 0, 2, 1, 1, 1, 1, 1, 1, 2, 1, 1, 1, 1, 0, 0, 1, 1, 1, 1,\n",
              "       1, 2, 1, 2, 1, 0, 1, 1, 1, 1, 1, 1, 1, 2, 1, 1, 1, 0, 1, 2, 1, 2,\n",
              "       1, 2, 1, 1, 1, 1, 1, 1, 1, 1, 1, 1, 1, 1, 1, 1, 1, 1, 0, 1, 1, 1,\n",
              "       1, 1, 1, 0, 1, 1, 0, 1, 0, 1, 2, 1, 1, 1, 1, 1, 1, 1, 1, 0, 1, 1,\n",
              "       1, 1, 1, 1, 1, 0, 0, 0, 1, 1, 0, 2, 1, 1, 1, 1, 1, 1, 1, 1, 1, 1,\n",
              "       2, 1, 1, 1, 0, 1, 1, 1, 1, 0, 1, 1, 1, 1, 1, 1, 1, 0, 0, 2, 1, 1],\n",
              "      dtype=int32)"
            ]
          },
          "metadata": {},
          "execution_count": 18
        }
      ]
    },
    {
      "cell_type": "code",
      "source": [
        "df['K-Means_cluster'] = predict\n",
        "df['K-Means_cluster'].value_counts()"
      ],
      "metadata": {
        "colab": {
          "base_uri": "https://localhost:8080/"
        },
        "id": "JApb53Q4hxr7",
        "outputId": "93dc4987-14db-48ac-84c6-bada2344d79e"
      },
      "execution_count": 19,
      "outputs": [
        {
          "output_type": "execute_result",
          "data": {
            "text/plain": [
              "1    330\n",
              "0     60\n",
              "2     50\n",
              "Name: K-Means_cluster, dtype: int64"
            ]
          },
          "metadata": {},
          "execution_count": 19
        }
      ]
    },
    {
      "cell_type": "code",
      "source": [
        "df.drop('K-Means_cluster',axis= 1,inplace=True)"
      ],
      "metadata": {
        "id": "fAe9QJjowO7k"
      },
      "execution_count": 20,
      "outputs": []
    },
    {
      "cell_type": "code",
      "source": [
        "#hierarchy method\n",
        "link=linkage(df,method='ward')\n",
        "plt.figure(figsize=(20,15))\n",
        "dendrogram(link,orientation='top',distance_sort='ascending',show_leaf_counts=True)\n",
        "plt.show()"
      ],
      "metadata": {
        "colab": {
          "base_uri": "https://localhost:8080/",
          "height": 865
        },
        "id": "t2yL3No4h0RU",
        "outputId": "63c54bae-e7ad-49f6-ec7d-161f1df4a05e"
      },
      "execution_count": 21,
      "outputs": [
        {
          "output_type": "display_data",
          "data": {
            "text/plain": [
              "<Figure size 1440x1080 with 1 Axes>"
            ],
            "image/png": "[encoded data removed]"
          },
          "metadata": {}
        }
      ]
    },
    {
      "cell_type": "code",
      "source": [
        "hm=AgglomerativeClustering(n_clusters=3,affinity='euclidean',linkage='ward')\n",
        "predict1=hm.fit_predict(df)"
      ],
      "metadata": {
        "id": "Q4owjrTsh42U"
      },
      "execution_count": 22,
      "outputs": []
    },
    {
      "cell_type": "code",
      "source": [
        "predict1"
      ],
      "metadata": {
        "colab": {
          "base_uri": "https://localhost:8080/"
        },
        "id": "JC7PnEdRh6Nd",
        "outputId": "f40b7bf9-dbb8-4025-9d2b-99d35af877c4"
      },
      "execution_count": 23,
      "outputs": [
        {
          "output_type": "execute_result",
          "data": {
            "text/plain": [
              "array([2, 2, 2, 2, 0, 2, 2, 2, 2, 1, 2, 2, 0, 0, 0, 2, 2, 2, 0, 2, 0, 2,\n",
              "       0, 2, 0, 0, 2, 0, 1, 0, 0, 2, 0, 0, 2, 2, 0, 2, 1, 0, 0, 0, 2, 1,\n",
              "       2, 1, 1, 1, 2, 1, 2, 2, 0, 2, 0, 2, 1, 2, 0, 2, 2, 1, 2, 2, 2, 1,\n",
              "       2, 0, 2, 2, 0, 0, 2, 0, 2, 0, 2, 1, 2, 2, 2, 2, 2, 0, 2, 1, 1, 0,\n",
              "       2, 0, 2, 2, 1, 2, 2, 2, 2, 2, 2, 2, 2, 2, 2, 0, 0, 0, 2, 2, 2, 1,\n",
              "       2, 2, 0, 0, 0, 2, 2, 2, 0, 2, 0, 2, 0, 2, 0, 0, 0, 0, 2, 0, 2, 2,\n",
              "       0, 2, 2, 2, 2, 2, 2, 2, 0, 0, 0, 2, 0, 1, 2, 2, 2, 0, 0, 2, 0, 2,\n",
              "       2, 1, 2, 0, 2, 2, 2, 0, 0, 1, 2, 2, 2, 2, 2, 2, 2, 1, 2, 1, 2, 2,\n",
              "       0, 2, 2, 2, 0, 0, 2, 0, 2, 2, 2, 2, 2, 2, 0, 0, 2, 1, 2, 0, 0, 2,\n",
              "       2, 2, 1, 1, 0, 2, 2, 1, 2, 2, 2, 1, 0, 1, 2, 2, 2, 2, 1, 0, 2, 2,\n",
              "       0, 2, 2, 2, 2, 2, 0, 2, 2, 2, 2, 2, 0, 2, 0, 2, 2, 0, 2, 0, 0, 0,\n",
              "       0, 2, 2, 2, 2, 0, 0, 2, 2, 1, 2, 0, 2, 0, 2, 2, 0, 0, 2, 2, 0, 2,\n",
              "       2, 2, 1, 0, 2, 0, 2, 2, 2, 0, 2, 2, 0, 2, 2, 0, 2, 2, 0, 0, 0, 0,\n",
              "       2, 0, 0, 0, 2, 2, 2, 2, 0, 2, 0, 2, 2, 2, 0, 1, 2, 2, 1, 2, 1, 0,\n",
              "       2, 2, 2, 0, 1, 2, 2, 2, 2, 2, 2, 1, 2, 2, 0, 0, 0, 0, 2, 2, 0, 2,\n",
              "       2, 1, 0, 1, 0, 0, 0, 2, 2, 2, 2, 2, 2, 1, 2, 2, 2, 0, 2, 1, 2, 1,\n",
              "       2, 1, 2, 2, 0, 1, 2, 2, 0, 2, 2, 2, 2, 2, 2, 2, 0, 2, 0, 0, 2, 0,\n",
              "       2, 2, 2, 0, 2, 2, 0, 0, 0, 2, 2, 2, 2, 0, 2, 2, 2, 2, 2, 0, 2, 2,\n",
              "       2, 2, 2, 2, 2, 0, 0, 0, 0, 2, 0, 1, 2, 2, 2, 2, 2, 2, 2, 2, 2, 2,\n",
              "       1, 2, 2, 0, 0, 0, 0, 2, 2, 0, 2, 2, 2, 2, 0, 2, 0, 0, 0, 1, 2, 2])"
            ]
          },
          "metadata": {},
          "execution_count": 23
        }
      ]
    },
    {
      "cell_type": "code",
      "source": [
        "df['hierarchycluster'] = predict1\n",
        "df['hierarchycluster'].value_counts()"
      ],
      "metadata": {
        "colab": {
          "base_uri": "https://localhost:8080/"
        },
        "id": "y8vJ_Nv9h_JI",
        "outputId": "e39722e3-258e-49ac-e300-bb94f71e53e1"
      },
      "execution_count": 24,
      "outputs": [
        {
          "output_type": "execute_result",
          "data": {
            "text/plain": [
              "2    261\n",
              "0    134\n",
              "1     45\n",
              "Name: hierarchycluster, dtype: int64"
            ]
          },
          "metadata": {},
          "execution_count": 24
        }
      ]
    },
    {
      "cell_type": "code",
      "source": [
        "df.drop('hierarchycluster',axis= 1,inplace=True)"
      ],
      "metadata": {
        "id": "RbOtFWUWv4Eo"
      },
      "execution_count": 25,
      "outputs": []
    },
    {
      "cell_type": "markdown",
      "source": [
        "# **After preprocessing**"
      ],
      "metadata": {
        "id": "xzcYADOui2kD"
      }
    },
    {
      "cell_type": "code",
      "source": [
        "df.describe()"
      ],
      "metadata": {
        "colab": {
          "base_uri": "https://localhost:8080/",
          "height": 300
        },
        "id": "XXQEmAEAjAVE",
        "outputId": "2ca4a9e6-d78e-4abb-cc8c-bef41a79cee9"
      },
      "execution_count": 26,
      "outputs": [
        {
          "output_type": "execute_result",
          "data": {
            "text/plain": [
              "          Channel      Region          Fresh          Milk       Grocery  \\\n",
              "count  440.000000  440.000000     440.000000    440.000000    440.000000   \n",
              "mean     1.322727    2.543182   12000.297727   5796.265909   7951.277273   \n",
              "std      0.468052    0.774272   12647.328865   7380.377175   9503.162829   \n",
              "min      1.000000    1.000000       3.000000     55.000000      3.000000   \n",
              "25%      1.000000    2.000000    3127.750000   1533.000000   2153.000000   \n",
              "50%      1.000000    3.000000    8504.000000   3627.000000   4755.500000   \n",
              "75%      2.000000    3.000000   16933.750000   7190.250000  10655.750000   \n",
              "max      2.000000    3.000000  112151.000000  73498.000000  92780.000000   \n",
              "\n",
              "             Frozen  Detergents_Paper    Delicassen  \n",
              "count    440.000000        440.000000    440.000000  \n",
              "mean    3071.931818       2881.493182   1524.870455  \n",
              "std     4854.673333       4767.854448   2820.105937  \n",
              "min       25.000000          3.000000      3.000000  \n",
              "25%      742.250000        256.750000    408.250000  \n",
              "50%     1526.000000        816.500000    965.500000  \n",
              "75%     3554.250000       3922.000000   1820.250000  \n",
              "max    60869.000000      40827.000000  47943.000000  "
            ],
            "text/html": [
              "\n",
              "  <div id=\"df-51b8a6cd-abc2-4012-b1c5-2ad33f0f824d\">\n",
              "    <div class=\"colab-df-container\">\n",
              "      <div>\n",
              "<style scoped>\n",
              "    .dataframe tbody tr th:only-of-type {\n",
              "        vertical-align: middle;\n",
              "    }\n",
              "\n",
              "    .dataframe tbody tr th {\n",
              "        vertical-align: top;\n",
              "    }\n",
              "\n",
              "    .dataframe thead th {\n",
              "        text-align: right;\n",
              "    }\n",
              "</style>\n",
              "<table border=\"1\" class=\"dataframe\">\n",
              "  <thead>\n",
              "    <tr style=\"text-align: right;\">\n",
              "      <th></th>\n",
              "      <th>Channel</th>\n",
              "      <th>Region</th>\n",
              "      <th>Fresh</th>\n",
              "      <th>Milk</th>\n",
              "      <th>Grocery</th>\n",
              "      <th>Frozen</th>\n",
              "      <th>Detergents_Paper</th>\n",
              "      <th>Delicassen</th>\n",
              "    </tr>\n",
              "  </thead>\n",
              "  <tbody>\n",
              "    <tr>\n",
              "      <th>count</th>\n",
              "      <td>440.000000</td>\n",
              "      <td>440.000000</td>\n",
              "      <td>440.000000</td>\n",
              "      <td>440.000000</td>\n",
              "      <td>440.000000</td>\n",
              "      <td>440.000000</td>\n",
              "      <td>440.000000</td>\n",
              "      <td>440.000000</td>\n",
              "    </tr>\n",
              "    <tr>\n",
              "      <th>mean</th>\n",
              "      <td>1.322727</td>\n",
              "      <td>2.543182</td>\n",
              "      <td>12000.297727</td>\n",
              "      <td>5796.265909</td>\n",
              "      <td>7951.277273</td>\n",
              "      <td>3071.931818</td>\n",
              "      <td>2881.493182</td>\n",
              "      <td>1524.870455</td>\n",
              "    </tr>\n",
              "    <tr>\n",
              "      <th>std</th>\n",
              "      <td>0.468052</td>\n",
              "      <td>0.774272</td>\n",
              "      <td>12647.328865</td>\n",
              "      <td>7380.377175</td>\n",
              "      <td>9503.162829</td>\n",
              "      <td>4854.673333</td>\n",
              "      <td>4767.854448</td>\n",
              "      <td>2820.105937</td>\n",
              "    </tr>\n",
              "    <tr>\n",
              "      <th>min</th>\n",
              "      <td>1.000000</td>\n",
              "      <td>1.000000</td>\n",
              "      <td>3.000000</td>\n",
              "      <td>55.000000</td>\n",
              "      <td>3.000000</td>\n",
              "      <td>25.000000</td>\n",
              "      <td>3.000000</td>\n",
              "      <td>3.000000</td>\n",
              "    </tr>\n",
              "    <tr>\n",
              "      <th>25%</th>\n",
              "      <td>1.000000</td>\n",
              "      <td>2.000000</td>\n",
              "      <td>3127.750000</td>\n",
              "      <td>1533.000000</td>\n",
              "      <td>2153.000000</td>\n",
              "      <td>742.250000</td>\n",
              "      <td>256.750000</td>\n",
              "      <td>408.250000</td>\n",
              "    </tr>\n",
              "    <tr>\n",
              "      <th>50%</th>\n",
              "      <td>1.000000</td>\n",
              "      <td>3.000000</td>\n",
              "      <td>8504.000000</td>\n",
              "      <td>3627.000000</td>\n",
              "      <td>4755.500000</td>\n",
              "      <td>1526.000000</td>\n",
              "      <td>816.500000</td>\n",
              "      <td>965.500000</td>\n",
              "    </tr>\n",
              "    <tr>\n",
              "      <th>75%</th>\n",
              "      <td>2.000000</td>\n",
              "      <td>3.000000</td>\n",
              "      <td>16933.750000</td>\n",
              "      <td>7190.250000</td>\n",
              "      <td>10655.750000</td>\n",
              "      <td>3554.250000</td>\n",
              "      <td>3922.000000</td>\n",
              "      <td>1820.250000</td>\n",
              "    </tr>\n",
              "    <tr>\n",
              "      <th>max</th>\n",
              "      <td>2.000000</td>\n",
              "      <td>3.000000</td>\n",
              "      <td>112151.000000</td>\n",
              "      <td>73498.000000</td>\n",
              "      <td>92780.000000</td>\n",
              "      <td>60869.000000</td>\n",
              "      <td>40827.000000</td>\n",
              "      <td>47943.000000</td>\n",
              "    </tr>\n",
              "  </tbody>\n",
              "</table>\n",
              "</div>\n",
              "      <button class=\"colab-df-convert\" onclick=\"convertToInteractive('df-51b8a6cd-abc2-4012-b1c5-2ad33f0f824d')\"\n",
              "              title=\"Convert this dataframe to an interactive table.\"\n",
              "              style=\"display:none;\">\n",
              "        \n",
              "  <svg xmlns=\"http://www.w3.org/2000/svg\" height=\"24px\"viewBox=\"0 0 24 24\"\n",
              "       width=\"24px\">\n",
              "    <path d=\"M0 0h24v24H0V0z\" fill=\"none\"/>\n",
              "    <path d=\"M18.56 5.44l.94 2.06.94-2.06 2.06-.94-2.06-.94-.94-2.06-.94 2.06-2.06.94zm-11 1L8.5 8.5l.94-2.06 2.06-.94-2.06-.94L8.5 2.5l-.94 2.06-2.06.94zm10 10l.94 2.06.94-2.06 2.06-.94-2.06-.94-.94-2.06-.94 2.06-2.06.94z\"/><path d=\"M17.41 7.96l-1.37-1.37c-.4-.4-.92-.59-1.43-.59-.52 0-1.04.2-1.43.59L10.3 9.45l-7.72 7.72c-.78.78-.78 2.05 0 2.83L4 21.41c.39.39.9.59 1.41.59.51 0 1.02-.2 1.41-.59l7.78-7.78 2.81-2.81c.8-.78.8-2.07 0-2.86zM5.41 20L4 18.59l7.72-7.72 1.47 1.35L5.41 20z\"/>\n",
              "  </svg>\n",
              "      </button>\n",
              "      \n",
              "  <style>\n",
              "    .colab-df-container {\n",
              "      display:flex;\n",
              "      flex-wrap:wrap;\n",
              "      gap: 12px;\n",
              "    }\n",
              "\n",
              "    .colab-df-convert {\n",
              "      background-color: #E8F0FE;\n",
              "      border: none;\n",
              "      border-radius: 50%;\n",
              "      cursor: pointer;\n",
              "      display: none;\n",
              "      fill: #1967D2;\n",
              "      height: 32px;\n",
              "      padding: 0 0 0 0;\n",
              "      width: 32px;\n",
              "    }\n",
              "\n",
              "    .colab-df-convert:hover {\n",
              "      background-color: #E2EBFA;\n",
              "      box-shadow: 0px 1px 2px rgba(60, 64, 67, 0.3), 0px 1px 3px 1px rgba(60, 64, 67, 0.15);\n",
              "      fill: #174EA6;\n",
              "    }\n",
              "\n",
              "    [theme=dark] .colab-df-convert {\n",
              "      background-color: #3B4455;\n",
              "      fill: #D2E3FC;\n",
              "    }\n",
              "\n",
              "    [theme=dark] .colab-df-convert:hover {\n",
              "      background-color: #434B5C;\n",
              "      box-shadow: 0px 1px 3px 1px rgba(0, 0, 0, 0.15);\n",
              "      filter: drop-shadow(0px 1px 2px rgba(0, 0, 0, 0.3));\n",
              "      fill: #FFFFFF;\n",
              "    }\n",
              "  </style>\n",
              "\n",
              "      <script>\n",
              "        const buttonEl =\n",
              "          document.querySelector('#df-51b8a6cd-abc2-4012-b1c5-2ad33f0f824d button.colab-df-convert');\n",
              "        buttonEl.style.display =\n",
              "          google.colab.kernel.accessAllowed ? 'block' : 'none';\n",
              "\n",
              "        async function convertToInteractive(key) {\n",
              "          const element = document.querySelector('#df-51b8a6cd-abc2-4012-b1c5-2ad33f0f824d');\n",
              "          const dataTable =\n",
              "            await google.colab.kernel.invokeFunction('convertToInteractive',\n",
              "                                                     [key], {});\n",
              "          if (!dataTable) return;\n",
              "\n",
              "          const docLinkHtml = 'Like what you see? Visit the ' +\n",
              "            '<a target=\"_blank\" href=https://colab.research.google.com/notebooks/data_table.ipynb>data table notebook</a>'\n",
              "            + ' to learn more about interactive tables.';\n",
              "          element.innerHTML = '';\n",
              "          dataTable['output_type'] = 'display_data';\n",
              "          await google.colab.output.renderOutput(dataTable, element);\n",
              "          const docLink = document.createElement('div');\n",
              "          docLink.innerHTML = docLinkHtml;\n",
              "          element.appendChild(docLink);\n",
              "        }\n",
              "      </script>\n",
              "    </div>\n",
              "  </div>\n",
              "  "
            ]
          },
          "metadata": {},
          "execution_count": 26
        }
      ]
    },
    {
      "cell_type": "code",
      "source": [
        "from sklearn import preprocessing\n",
        "normalized = preprocessing.normalize(df)\n",
        "print(\"Normalized Data = \", normalized)"
      ],
      "metadata": {
        "colab": {
          "base_uri": "https://localhost:8080/"
        },
        "id": "wnP_jjo9jTmX",
        "outputId": "dadc11e9-9a82-465e-8065-d30553c59e73"
      },
      "execution_count": 27,
      "outputs": [
        {
          "output_type": "stream",
          "name": "stdout",
          "text": [
            "Normalized Data =  [[1.11821406e-04 1.67732109e-04 7.08332695e-01 ... 1.19648904e-02\n",
            "  1.49505220e-01 7.48085205e-02]\n",
            " [1.25321880e-04 1.87982820e-04 4.42198253e-01 ... 1.10408576e-01\n",
            "  2.06342475e-01 1.11285829e-01]\n",
            " [1.24839188e-04 1.87258782e-04 3.96551681e-01 ... 1.50119124e-01\n",
            "  2.19467293e-01 4.89619296e-01]\n",
            " ...\n",
            " [5.01633106e-05 7.52449659e-05 3.64461533e-01 ... 1.09606834e-02\n",
            "  3.72236846e-01 4.68274505e-02]\n",
            " [9.11309417e-05 2.73392825e-04 9.37737390e-01 ... 9.45939175e-02\n",
            "  1.53099982e-02 1.93653251e-01]\n",
            " [2.41225630e-04 7.23676891e-04 6.72295832e-01 ... 1.56796660e-02\n",
            "  1.15064626e-01 1.25437328e-02]]\n"
          ]
        }
      ]
    },
    {
      "cell_type": "code",
      "source": [
        "Normalized_data = pd.DataFrame(normalized, columns = df.columns)"
      ],
      "metadata": {
        "id": "0KRDMMfhbR4Q"
      },
      "execution_count": 28,
      "outputs": []
    },
    {
      "cell_type": "code",
      "source": [
        "Normalized_data.head()"
      ],
      "metadata": {
        "colab": {
          "base_uri": "https://localhost:8080/",
          "height": 206
        },
        "id": "KelcvYETj4oU",
        "outputId": "f8dc101d-5c9f-4c18-a929-93c99cb7cebb"
      },
      "execution_count": 29,
      "outputs": [
        {
          "output_type": "execute_result",
          "data": {
            "text/plain": [
              "    Channel    Region     Fresh      Milk   Grocery    Frozen  \\\n",
              "0  0.000112  0.000168  0.708333  0.539874  0.422741  0.011965   \n",
              "1  0.000125  0.000188  0.442198  0.614704  0.599540  0.110409   \n",
              "2  0.000125  0.000187  0.396552  0.549792  0.479632  0.150119   \n",
              "3  0.000065  0.000194  0.856837  0.077254  0.272650  0.413659   \n",
              "4  0.000079  0.000119  0.895416  0.214203  0.284997  0.155010   \n",
              "\n",
              "   Detergents_Paper  Delicassen  \n",
              "0          0.149505    0.074809  \n",
              "1          0.206342    0.111286  \n",
              "2          0.219467    0.489619  \n",
              "3          0.032749    0.115494  \n",
              "4          0.070358    0.205294  "
            ],
            "text/html": [
              "\n",
              "  <div id=\"df-4fa92360-51fc-4ceb-98fe-49a81724e434\">\n",
              "    <div class=\"colab-df-container\">\n",
              "      <div>\n",
              "<style scoped>\n",
              "    .dataframe tbody tr th:only-of-type {\n",
              "        vertical-align: middle;\n",
              "    }\n",
              "\n",
              "    .dataframe tbody tr th {\n",
              "        vertical-align: top;\n",
              "    }\n",
              "\n",
              "    .dataframe thead th {\n",
              "        text-align: right;\n",
              "    }\n",
              "</style>\n",
              "<table border=\"1\" class=\"dataframe\">\n",
              "  <thead>\n",
              "    <tr style=\"text-align: right;\">\n",
              "      <th></th>\n",
              "      <th>Channel</th>\n",
              "      <th>Region</th>\n",
              "      <th>Fresh</th>\n",
              "      <th>Milk</th>\n",
              "      <th>Grocery</th>\n",
              "      <th>Frozen</th>\n",
              "      <th>Detergents_Paper</th>\n",
              "      <th>Delicassen</th>\n",
              "    </tr>\n",
              "  </thead>\n",
              "  <tbody>\n",
              "    <tr>\n",
              "      <th>0</th>\n",
              "      <td>0.000112</td>\n",
              "      <td>0.000168</td>\n",
              "      <td>0.708333</td>\n",
              "      <td>0.539874</td>\n",
              "      <td>0.422741</td>\n",
              "      <td>0.011965</td>\n",
              "      <td>0.149505</td>\n",
              "      <td>0.074809</td>\n",
              "    </tr>\n",
              "    <tr>\n",
              "      <th>1</th>\n",
              "      <td>0.000125</td>\n",
              "      <td>0.000188</td>\n",
              "      <td>0.442198</td>\n",
              "      <td>0.614704</td>\n",
              "      <td>0.599540</td>\n",
              "      <td>0.110409</td>\n",
              "      <td>0.206342</td>\n",
              "      <td>0.111286</td>\n",
              "    </tr>\n",
              "    <tr>\n",
              "      <th>2</th>\n",
              "      <td>0.000125</td>\n",
              "      <td>0.000187</td>\n",
              "      <td>0.396552</td>\n",
              "      <td>0.549792</td>\n",
              "      <td>0.479632</td>\n",
              "      <td>0.150119</td>\n",
              "      <td>0.219467</td>\n",
              "      <td>0.489619</td>\n",
              "    </tr>\n",
              "    <tr>\n",
              "      <th>3</th>\n",
              "      <td>0.000065</td>\n",
              "      <td>0.000194</td>\n",
              "      <td>0.856837</td>\n",
              "      <td>0.077254</td>\n",
              "      <td>0.272650</td>\n",
              "      <td>0.413659</td>\n",
              "      <td>0.032749</td>\n",
              "      <td>0.115494</td>\n",
              "    </tr>\n",
              "    <tr>\n",
              "      <th>4</th>\n",
              "      <td>0.000079</td>\n",
              "      <td>0.000119</td>\n",
              "      <td>0.895416</td>\n",
              "      <td>0.214203</td>\n",
              "      <td>0.284997</td>\n",
              "      <td>0.155010</td>\n",
              "      <td>0.070358</td>\n",
              "      <td>0.205294</td>\n",
              "    </tr>\n",
              "  </tbody>\n",
              "</table>\n",
              "</div>\n",
              "      <button class=\"colab-df-convert\" onclick=\"convertToInteractive('df-4fa92360-51fc-4ceb-98fe-49a81724e434')\"\n",
              "              title=\"Convert this dataframe to an interactive table.\"\n",
              "              style=\"display:none;\">\n",
              "        \n",
              "  <svg xmlns=\"http://www.w3.org/2000/svg\" height=\"24px\"viewBox=\"0 0 24 24\"\n",
              "       width=\"24px\">\n",
              "    <path d=\"M0 0h24v24H0V0z\" fill=\"none\"/>\n",
              "    <path d=\"M18.56 5.44l.94 2.06.94-2.06 2.06-.94-2.06-.94-.94-2.06-.94 2.06-2.06.94zm-11 1L8.5 8.5l.94-2.06 2.06-.94-2.06-.94L8.5 2.5l-.94 2.06-2.06.94zm10 10l.94 2.06.94-2.06 2.06-.94-2.06-.94-.94-2.06-.94 2.06-2.06.94z\"/><path d=\"M17.41 7.96l-1.37-1.37c-.4-.4-.92-.59-1.43-.59-.52 0-1.04.2-1.43.59L10.3 9.45l-7.72 7.72c-.78.78-.78 2.05 0 2.83L4 21.41c.39.39.9.59 1.41.59.51 0 1.02-.2 1.41-.59l7.78-7.78 2.81-2.81c.8-.78.8-2.07 0-2.86zM5.41 20L4 18.59l7.72-7.72 1.47 1.35L5.41 20z\"/>\n",
              "  </svg>\n",
              "      </button>\n",
              "      \n",
              "  <style>\n",
              "    .colab-df-container {\n",
              "      display:flex;\n",
              "      flex-wrap:wrap;\n",
              "      gap: 12px;\n",
              "    }\n",
              "\n",
              "    .colab-df-convert {\n",
              "      background-color: #E8F0FE;\n",
              "      border: none;\n",
              "      border-radius: 50%;\n",
              "      cursor: pointer;\n",
              "      display: none;\n",
              "      fill: #1967D2;\n",
              "      height: 32px;\n",
              "      padding: 0 0 0 0;\n",
              "      width: 32px;\n",
              "    }\n",
              "\n",
              "    .colab-df-convert:hover {\n",
              "      background-color: #E2EBFA;\n",
              "      box-shadow: 0px 1px 2px rgba(60, 64, 67, 0.3), 0px 1px 3px 1px rgba(60, 64, 67, 0.15);\n",
              "      fill: #174EA6;\n",
              "    }\n",
              "\n",
              "    [theme=dark] .colab-df-convert {\n",
              "      background-color: #3B4455;\n",
              "      fill: #D2E3FC;\n",
              "    }\n",
              "\n",
              "    [theme=dark] .colab-df-convert:hover {\n",
              "      background-color: #434B5C;\n",
              "      box-shadow: 0px 1px 3px 1px rgba(0, 0, 0, 0.15);\n",
              "      filter: drop-shadow(0px 1px 2px rgba(0, 0, 0, 0.3));\n",
              "      fill: #FFFFFF;\n",
              "    }\n",
              "  </style>\n",
              "\n",
              "      <script>\n",
              "        const buttonEl =\n",
              "          document.querySelector('#df-4fa92360-51fc-4ceb-98fe-49a81724e434 button.colab-df-convert');\n",
              "        buttonEl.style.display =\n",
              "          google.colab.kernel.accessAllowed ? 'block' : 'none';\n",
              "\n",
              "        async function convertToInteractive(key) {\n",
              "          const element = document.querySelector('#df-4fa92360-51fc-4ceb-98fe-49a81724e434');\n",
              "          const dataTable =\n",
              "            await google.colab.kernel.invokeFunction('convertToInteractive',\n",
              "                                                     [key], {});\n",
              "          if (!dataTable) return;\n",
              "\n",
              "          const docLinkHtml = 'Like what you see? Visit the ' +\n",
              "            '<a target=\"_blank\" href=https://colab.research.google.com/notebooks/data_table.ipynb>data table notebook</a>'\n",
              "            + ' to learn more about interactive tables.';\n",
              "          element.innerHTML = '';\n",
              "          dataTable['output_type'] = 'display_data';\n",
              "          await google.colab.output.renderOutput(dataTable, element);\n",
              "          const docLink = document.createElement('div');\n",
              "          docLink.innerHTML = docLinkHtml;\n",
              "          element.appendChild(docLink);\n",
              "        }\n",
              "      </script>\n",
              "    </div>\n",
              "  </div>\n",
              "  "
            ]
          },
          "metadata": {},
          "execution_count": 29
        }
      ]
    },
    {
      "cell_type": "code",
      "source": [
        "Normalized_data.describe()"
      ],
      "metadata": {
        "colab": {
          "base_uri": "https://localhost:8080/",
          "height": 300
        },
        "id": "vqLzZeZdj0xY",
        "outputId": "c73a1502-80a6-4b5a-ddc6-373e784711bf"
      },
      "execution_count": 30,
      "outputs": [
        {
          "output_type": "execute_result",
          "data": {
            "text/plain": [
              "          Channel      Region       Fresh        Milk     Grocery      Frozen  \\\n",
              "count  440.000000  440.000000  440.000000  440.000000  440.000000  440.000000   \n",
              "mean     0.000105    0.000230    0.608111    0.306342    0.414267    0.185777   \n",
              "std      0.000110    0.000329    0.339614    0.216936    0.267369    0.200710   \n",
              "min      0.000008    0.000018    0.000175    0.005848    0.000143    0.000644   \n",
              "25%      0.000053    0.000092    0.285100    0.123490    0.164689    0.045811   \n",
              "50%      0.000085    0.000155    0.722229    0.251437    0.375277    0.112828   \n",
              "75%      0.000125    0.000250    0.927366    0.455574    0.654840    0.243927   \n",
              "max      0.001553    0.004660    0.999391    0.926102    0.976789    0.944218   \n",
              "\n",
              "       Detergents_Paper  Delicassen  \n",
              "count        440.000000  440.000000  \n",
              "mean           0.137032    0.087564  \n",
              "std            0.149245    0.089597  \n",
              "min            0.000143    0.000077  \n",
              "25%            0.020551    0.030020  \n",
              "50%            0.062453    0.062284  \n",
              "75%            0.242912    0.117928  \n",
              "max            0.903593    0.642610  "
            ],
            "text/html": [
              "\n",
              "  <div id=\"df-4bc2d76c-1d7c-4e00-ae12-4c3b70be2ff5\">\n",
              "    <div class=\"colab-df-container\">\n",
              "      <div>\n",
              "<style scoped>\n",
              "    .dataframe tbody tr th:only-of-type {\n",
              "        vertical-align: middle;\n",
              "    }\n",
              "\n",
              "    .dataframe tbody tr th {\n",
              "        vertical-align: top;\n",
              "    }\n",
              "\n",
              "    .dataframe thead th {\n",
              "        text-align: right;\n",
              "    }\n",
              "</style>\n",
              "<table border=\"1\" class=\"dataframe\">\n",
              "  <thead>\n",
              "    <tr style=\"text-align: right;\">\n",
              "      <th></th>\n",
              "      <th>Channel</th>\n",
              "      <th>Region</th>\n",
              "      <th>Fresh</th>\n",
              "      <th>Milk</th>\n",
              "      <th>Grocery</th>\n",
              "      <th>Frozen</th>\n",
              "      <th>Detergents_Paper</th>\n",
              "      <th>Delicassen</th>\n",
              "    </tr>\n",
              "  </thead>\n",
              "  <tbody>\n",
              "    <tr>\n",
              "      <th>count</th>\n",
              "      <td>440.000000</td>\n",
              "      <td>440.000000</td>\n",
              "      <td>440.000000</td>\n",
              "      <td>440.000000</td>\n",
              "      <td>440.000000</td>\n",
              "      <td>440.000000</td>\n",
              "      <td>440.000000</td>\n",
              "      <td>440.000000</td>\n",
              "    </tr>\n",
              "    <tr>\n",
              "      <th>mean</th>\n",
              "      <td>0.000105</td>\n",
              "      <td>0.000230</td>\n",
              "      <td>0.608111</td>\n",
              "      <td>0.306342</td>\n",
              "      <td>0.414267</td>\n",
              "      <td>0.185777</td>\n",
              "      <td>0.137032</td>\n",
              "      <td>0.087564</td>\n",
              "    </tr>\n",
              "    <tr>\n",
              "      <th>std</th>\n",
              "      <td>0.000110</td>\n",
              "      <td>0.000329</td>\n",
              "      <td>0.339614</td>\n",
              "      <td>0.216936</td>\n",
              "      <td>0.267369</td>\n",
              "      <td>0.200710</td>\n",
              "      <td>0.149245</td>\n",
              "      <td>0.089597</td>\n",
              "    </tr>\n",
              "    <tr>\n",
              "      <th>min</th>\n",
              "      <td>0.000008</td>\n",
              "      <td>0.000018</td>\n",
              "      <td>0.000175</td>\n",
              "      <td>0.005848</td>\n",
              "      <td>0.000143</td>\n",
              "      <td>0.000644</td>\n",
              "      <td>0.000143</td>\n",
              "      <td>0.000077</td>\n",
              "    </tr>\n",
              "    <tr>\n",
              "      <th>25%</th>\n",
              "      <td>0.000053</td>\n",
              "      <td>0.000092</td>\n",
              "      <td>0.285100</td>\n",
              "      <td>0.123490</td>\n",
              "      <td>0.164689</td>\n",
              "      <td>0.045811</td>\n",
              "      <td>0.020551</td>\n",
              "      <td>0.030020</td>\n",
              "    </tr>\n",
              "    <tr>\n",
              "      <th>50%</th>\n",
              "      <td>0.000085</td>\n",
              "      <td>0.000155</td>\n",
              "      <td>0.722229</td>\n",
              "      <td>0.251437</td>\n",
              "      <td>0.375277</td>\n",
              "      <td>0.112828</td>\n",
              "      <td>0.062453</td>\n",
              "      <td>0.062284</td>\n",
              "    </tr>\n",
              "    <tr>\n",
              "      <th>75%</th>\n",
              "      <td>0.000125</td>\n",
              "      <td>0.000250</td>\n",
              "      <td>0.927366</td>\n",
              "      <td>0.455574</td>\n",
              "      <td>0.654840</td>\n",
              "      <td>0.243927</td>\n",
              "      <td>0.242912</td>\n",
              "      <td>0.117928</td>\n",
              "    </tr>\n",
              "    <tr>\n",
              "      <th>max</th>\n",
              "      <td>0.001553</td>\n",
              "      <td>0.004660</td>\n",
              "      <td>0.999391</td>\n",
              "      <td>0.926102</td>\n",
              "      <td>0.976789</td>\n",
              "      <td>0.944218</td>\n",
              "      <td>0.903593</td>\n",
              "      <td>0.642610</td>\n",
              "    </tr>\n",
              "  </tbody>\n",
              "</table>\n",
              "</div>\n",
              "      <button class=\"colab-df-convert\" onclick=\"convertToInteractive('df-4bc2d76c-1d7c-4e00-ae12-4c3b70be2ff5')\"\n",
              "              title=\"Convert this dataframe to an interactive table.\"\n",
              "              style=\"display:none;\">\n",
              "        \n",
              "  <svg xmlns=\"http://www.w3.org/2000/svg\" height=\"24px\"viewBox=\"0 0 24 24\"\n",
              "       width=\"24px\">\n",
              "    <path d=\"M0 0h24v24H0V0z\" fill=\"none\"/>\n",
              "    <path d=\"M18.56 5.44l.94 2.06.94-2.06 2.06-.94-2.06-.94-.94-2.06-.94 2.06-2.06.94zm-11 1L8.5 8.5l.94-2.06 2.06-.94-2.06-.94L8.5 2.5l-.94 2.06-2.06.94zm10 10l.94 2.06.94-2.06 2.06-.94-2.06-.94-.94-2.06-.94 2.06-2.06.94z\"/><path d=\"M17.41 7.96l-1.37-1.37c-.4-.4-.92-.59-1.43-.59-.52 0-1.04.2-1.43.59L10.3 9.45l-7.72 7.72c-.78.78-.78 2.05 0 2.83L4 21.41c.39.39.9.59 1.41.59.51 0 1.02-.2 1.41-.59l7.78-7.78 2.81-2.81c.8-.78.8-2.07 0-2.86zM5.41 20L4 18.59l7.72-7.72 1.47 1.35L5.41 20z\"/>\n",
              "  </svg>\n",
              "      </button>\n",
              "      \n",
              "  <style>\n",
              "    .colab-df-container {\n",
              "      display:flex;\n",
              "      flex-wrap:wrap;\n",
              "      gap: 12px;\n",
              "    }\n",
              "\n",
              "    .colab-df-convert {\n",
              "      background-color: #E8F0FE;\n",
              "      border: none;\n",
              "      border-radius: 50%;\n",
              "      cursor: pointer;\n",
              "      display: none;\n",
              "      fill: #1967D2;\n",
              "      height: 32px;\n",
              "      padding: 0 0 0 0;\n",
              "      width: 32px;\n",
              "    }\n",
              "\n",
              "    .colab-df-convert:hover {\n",
              "      background-color: #E2EBFA;\n",
              "      box-shadow: 0px 1px 2px rgba(60, 64, 67, 0.3), 0px 1px 3px 1px rgba(60, 64, 67, 0.15);\n",
              "      fill: #174EA6;\n",
              "    }\n",
              "\n",
              "    [theme=dark] .colab-df-convert {\n",
              "      background-color: #3B4455;\n",
              "      fill: #D2E3FC;\n",
              "    }\n",
              "\n",
              "    [theme=dark] .colab-df-convert:hover {\n",
              "      background-color: #434B5C;\n",
              "      box-shadow: 0px 1px 3px 1px rgba(0, 0, 0, 0.15);\n",
              "      filter: drop-shadow(0px 1px 2px rgba(0, 0, 0, 0.3));\n",
              "      fill: #FFFFFF;\n",
              "    }\n",
              "  </style>\n",
              "\n",
              "      <script>\n",
              "        const buttonEl =\n",
              "          document.querySelector('#df-4bc2d76c-1d7c-4e00-ae12-4c3b70be2ff5 button.colab-df-convert');\n",
              "        buttonEl.style.display =\n",
              "          google.colab.kernel.accessAllowed ? 'block' : 'none';\n",
              "\n",
              "        async function convertToInteractive(key) {\n",
              "          const element = document.querySelector('#df-4bc2d76c-1d7c-4e00-ae12-4c3b70be2ff5');\n",
              "          const dataTable =\n",
              "            await google.colab.kernel.invokeFunction('convertToInteractive',\n",
              "                                                     [key], {});\n",
              "          if (!dataTable) return;\n",
              "\n",
              "          const docLinkHtml = 'Like what you see? Visit the ' +\n",
              "            '<a target=\"_blank\" href=https://colab.research.google.com/notebooks/data_table.ipynb>data table notebook</a>'\n",
              "            + ' to learn more about interactive tables.';\n",
              "          element.innerHTML = '';\n",
              "          dataTable['output_type'] = 'display_data';\n",
              "          await google.colab.output.renderOutput(dataTable, element);\n",
              "          const docLink = document.createElement('div');\n",
              "          docLink.innerHTML = docLinkHtml;\n",
              "          element.appendChild(docLink);\n",
              "        }\n",
              "      </script>\n",
              "    </div>\n",
              "  </div>\n",
              "  "
            ]
          },
          "metadata": {},
          "execution_count": 30
        }
      ]
    },
    {
      "cell_type": "code",
      "source": [
        "#K-means Clustering\n",
        "y=[]\n",
        "for km in np.arange(2,10):\n",
        "    kmeans = KMeans( n_clusters = km, init='k-means++',random_state=42)\n",
        "    kmeans.fit(Normalized_data)\n",
        "    y.append(kmeans.inertia_)"
      ],
      "metadata": {
        "id": "eyjquK3Bi_Md"
      },
      "execution_count": 31,
      "outputs": []
    },
    {
      "cell_type": "code",
      "source": [
        "plt.figure(figsize=(12,6))\n",
        "plt.plot(np.arange(2,10),y,'o-' )\n",
        "plt.xlabel('n_Cluster')\n",
        "plt.ylabel('Inertia')\n",
        "plt.show()"
      ],
      "metadata": {
        "colab": {
          "base_uri": "https://localhost:8080/",
          "height": 406
        },
        "id": "MdmjiqDLkKZ5",
        "outputId": "df6541ed-2cf3-45c7-ee88-f3f958c18d24"
      },
      "execution_count": 32,
      "outputs": [
        {
          "output_type": "display_data",
          "data": {
            "text/plain": [
              "<Figure size 864x432 with 1 Axes>"
            ],
            "image/png": "[encoded data removed]"
          },
          "metadata": {}
        }
      ]
    },
    {
      "cell_type": "code",
      "source": [
        "kmean_model=KMeans(n_clusters=3,init='k-means++',random_state=42)\n",
        "kmean_model.fit(Normalized_data)\n",
        "predict=kmean_model.predict(Normalized_data)\n",
        "predict"
      ],
      "metadata": {
        "colab": {
          "base_uri": "https://localhost:8080/"
        },
        "id": "oOqb4433kNjW",
        "outputId": "39e62228-09de-4329-9c8b-8196b43845a1"
      },
      "execution_count": 33,
      "outputs": [
        {
          "output_type": "execute_result",
          "data": {
            "text/plain": [
              "array([1, 0, 0, 1, 1, 1, 1, 0, 0, 0, 0, 1, 1, 1, 1, 1, 0, 0, 1, 0, 1, 2,\n",
              "       1, 0, 1, 1, 1, 1, 0, 1, 1, 0, 1, 1, 0, 0, 1, 0, 0, 1, 1, 1, 0, 0,\n",
              "       0, 0, 0, 0, 0, 0, 2, 0, 1, 0, 1, 0, 0, 0, 1, 0, 0, 0, 0, 0, 2, 0,\n",
              "       0, 1, 2, 1, 2, 0, 2, 1, 0, 1, 2, 0, 1, 0, 1, 0, 0, 1, 1, 0, 0, 1,\n",
              "       2, 1, 1, 2, 0, 2, 0, 0, 0, 2, 2, 2, 0, 0, 0, 1, 1, 1, 0, 0, 0, 0,\n",
              "       1, 0, 1, 1, 1, 1, 1, 1, 1, 1, 1, 2, 1, 0, 1, 1, 1, 1, 0, 1, 2, 1,\n",
              "       1, 1, 1, 1, 0, 0, 1, 0, 1, 1, 1, 2, 1, 0, 1, 1, 2, 1, 1, 0, 1, 0,\n",
              "       1, 0, 0, 1, 0, 0, 0, 1, 1, 0, 0, 0, 0, 0, 1, 1, 0, 0, 0, 0, 0, 0,\n",
              "       1, 1, 1, 2, 1, 1, 0, 2, 0, 1, 2, 0, 0, 0, 1, 1, 1, 0, 1, 1, 2, 0,\n",
              "       1, 1, 0, 0, 1, 0, 0, 0, 1, 0, 0, 0, 1, 0, 1, 0, 0, 0, 0, 1, 0, 1,\n",
              "       1, 0, 2, 2, 1, 1, 1, 2, 0, 2, 2, 0, 1, 0, 1, 0, 1, 1, 1, 1, 1, 1,\n",
              "       1, 1, 0, 0, 1, 1, 1, 2, 2, 0, 2, 1, 0, 1, 1, 2, 1, 1, 1, 2, 1, 0,\n",
              "       0, 0, 0, 1, 0, 1, 2, 0, 0, 1, 0, 2, 1, 2, 1, 1, 0, 1, 1, 1, 1, 1,\n",
              "       1, 1, 1, 1, 0, 1, 2, 0, 1, 1, 1, 0, 0, 0, 1, 0, 0, 0, 0, 0, 0, 1,\n",
              "       1, 0, 2, 1, 0, 1, 1, 0, 1, 0, 1, 0, 0, 1, 1, 1, 1, 2, 2, 0, 1, 2,\n",
              "       1, 0, 1, 0, 2, 1, 1, 2, 2, 2, 0, 0, 0, 0, 2, 0, 0, 1, 1, 0, 2, 0,\n",
              "       0, 0, 1, 0, 1, 0, 0, 0, 1, 1, 0, 1, 1, 0, 1, 1, 1, 1, 1, 1, 1, 1,\n",
              "       1, 1, 0, 1, 0, 0, 1, 1, 1, 2, 0, 1, 0, 1, 1, 1, 2, 0, 0, 1, 1, 1,\n",
              "       0, 2, 1, 1, 2, 1, 1, 1, 1, 1, 1, 0, 1, 1, 1, 0, 0, 2, 2, 0, 0, 0,\n",
              "       0, 1, 0, 1, 1, 1, 1, 2, 0, 1, 0, 1, 0, 2, 1, 0, 1, 1, 1, 0, 1, 0],\n",
              "      dtype=int32)"
            ]
          },
          "metadata": {},
          "execution_count": 33
        }
      ]
    },
    {
      "cell_type": "code",
      "source": [
        "Normalized_data['K-means_cluster_Normalized'] = predict\n",
        "Normalized_data['K-means_cluster_Normalized'].value_counts()"
      ],
      "metadata": {
        "colab": {
          "base_uri": "https://localhost:8080/"
        },
        "id": "vBeCjNtWkTKF",
        "outputId": "e49f4a6b-95be-487b-fd28-3346e6381443"
      },
      "execution_count": 34,
      "outputs": [
        {
          "output_type": "execute_result",
          "data": {
            "text/plain": [
              "1    210\n",
              "0    177\n",
              "2     53\n",
              "Name: K-means_cluster_Normalized, dtype: int64"
            ]
          },
          "metadata": {},
          "execution_count": 34
        }
      ]
    },
    {
      "cell_type": "code",
      "source": [
        "Normalized_data.drop('K-means_cluster_Normalized',axis= 1,inplace=True)"
      ],
      "metadata": {
        "id": "3dXO7SmzwY0O"
      },
      "execution_count": 35,
      "outputs": []
    },
    {
      "cell_type": "code",
      "source": [
        "#hierarchy method for normalized data\n",
        "link=linkage(Normalized_data,method='ward')\n",
        "plt.figure(figsize=(20,15))\n",
        "dendrogram(link,orientation='top',distance_sort='ascending',show_leaf_counts=True)\n",
        "plt.show()"
      ],
      "metadata": {
        "colab": {
          "base_uri": "https://localhost:8080/",
          "height": 865
        },
        "id": "blMDNLZ-ko_0",
        "outputId": "558d41fc-473a-4f2a-d34d-59d155628a47"
      },
      "execution_count": 36,
      "outputs": [
        {
          "output_type": "display_data",
          "data": {
            "text/plain": [
              "<Figure size 1440x1080 with 1 Axes>"
            ],
            "image/png": "[encoded data removed]"
          },
          "metadata": {}
        }
      ]
    },
    {
      "cell_type": "code",
      "source": [
        "hm=AgglomerativeClustering(n_clusters=3,affinity='euclidean',linkage='ward')\n",
        "predict1=hm.fit_predict(Normalized_data)\n",
        "predict1"
      ],
      "metadata": {
        "colab": {
          "base_uri": "https://localhost:8080/"
        },
        "id": "kIbEvNhOk04t",
        "outputId": "9470994b-d8e0-42f9-a743-bb548bf9689a"
      },
      "execution_count": 37,
      "outputs": [
        {
          "output_type": "execute_result",
          "data": {
            "text/plain": [
              "array([0, 0, 0, 2, 1, 0, 1, 0, 0, 0, 0, 1, 1, 1, 1, 1, 0, 0, 1, 1, 1, 2,\n",
              "       1, 0, 1, 1, 1, 1, 0, 1, 1, 0, 1, 1, 0, 0, 1, 0, 0, 1, 1, 1, 0, 0,\n",
              "       0, 0, 0, 0, 0, 0, 2, 0, 1, 0, 1, 0, 0, 0, 1, 0, 1, 0, 0, 0, 2, 0,\n",
              "       0, 1, 0, 1, 2, 1, 2, 2, 0, 1, 2, 0, 1, 0, 1, 0, 0, 1, 1, 0, 0, 1,\n",
              "       2, 1, 1, 2, 0, 2, 0, 0, 0, 2, 2, 2, 0, 0, 0, 1, 1, 1, 0, 0, 0, 0,\n",
              "       1, 0, 2, 1, 1, 1, 1, 0, 1, 2, 1, 2, 1, 0, 1, 1, 2, 1, 0, 1, 2, 1,\n",
              "       1, 1, 1, 1, 0, 0, 1, 0, 1, 1, 1, 2, 1, 0, 1, 1, 2, 1, 1, 0, 1, 0,\n",
              "       1, 0, 0, 1, 0, 0, 0, 1, 1, 0, 0, 0, 0, 0, 1, 2, 0, 0, 0, 0, 0, 0,\n",
              "       1, 1, 1, 0, 1, 1, 0, 0, 0, 2, 2, 0, 0, 0, 2, 1, 1, 0, 1, 2, 2, 0,\n",
              "       2, 1, 0, 0, 1, 0, 0, 0, 1, 0, 0, 0, 1, 0, 1, 0, 0, 0, 0, 1, 0, 2,\n",
              "       1, 0, 2, 2, 1, 1, 1, 2, 0, 2, 2, 0, 1, 0, 1, 0, 1, 1, 1, 1, 2, 1,\n",
              "       1, 1, 0, 0, 1, 1, 1, 2, 2, 0, 2, 1, 0, 1, 1, 2, 1, 1, 1, 2, 1, 0,\n",
              "       0, 0, 0, 1, 0, 1, 2, 0, 0, 1, 0, 0, 1, 2, 2, 1, 0, 1, 1, 2, 1, 1,\n",
              "       1, 2, 1, 1, 0, 2, 0, 0, 1, 1, 1, 1, 0, 0, 1, 0, 0, 0, 0, 0, 0, 1,\n",
              "       1, 0, 2, 1, 0, 2, 1, 0, 1, 0, 1, 0, 0, 2, 1, 1, 1, 2, 2, 0, 2, 2,\n",
              "       2, 0, 1, 0, 2, 1, 1, 2, 2, 2, 0, 0, 0, 0, 2, 0, 0, 1, 0, 0, 2, 0,\n",
              "       0, 0, 2, 0, 1, 0, 0, 0, 1, 1, 0, 1, 2, 0, 1, 2, 1, 1, 1, 2, 0, 1,\n",
              "       1, 1, 0, 1, 0, 0, 1, 2, 1, 2, 0, 1, 0, 1, 1, 1, 2, 0, 0, 2, 1, 1,\n",
              "       0, 2, 2, 1, 2, 2, 1, 1, 1, 1, 2, 0, 1, 1, 1, 0, 0, 2, 2, 0, 0, 0,\n",
              "       0, 1, 0, 1, 1, 1, 1, 2, 0, 2, 0, 1, 0, 2, 1, 0, 1, 2, 1, 0, 1, 0])"
            ]
          },
          "metadata": {},
          "execution_count": 37
        }
      ]
    },
    {
      "cell_type": "code",
      "source": [
        "Normalized_data['Hierarchy_Cluster_Normalized'] = predict1\n",
        "Normalized_data['Hierarchy_Cluster_Normalized'].value_counts()"
      ],
      "metadata": {
        "colab": {
          "base_uri": "https://localhost:8080/"
        },
        "id": "Twgqk9SCk46t",
        "outputId": "4b775f6f-94aa-4baf-b6dd-813018d7b5e0"
      },
      "execution_count": 38,
      "outputs": [
        {
          "output_type": "execute_result",
          "data": {
            "text/plain": [
              "0    183\n",
              "1    178\n",
              "2     79\n",
              "Name: Hierarchy_Cluster_Normalized, dtype: int64"
            ]
          },
          "metadata": {},
          "execution_count": 38
        }
      ]
    },
    {
      "cell_type": "code",
      "source": [
        "Normalized_data.drop('Hierarchy_Cluster_Normalized',axis= 1,inplace=True)"
      ],
      "metadata": {
        "id": "Z8QxTJRWwlqk"
      },
      "execution_count": 39,
      "outputs": []
    },
    {
      "cell_type": "markdown",
      "source": [
        "# Performing PCA for Dimensionality reduction"
      ],
      "metadata": {
        "id": "ILc5izpxtJac"
      }
    },
    {
      "cell_type": "code",
      "source": [
        "Normalized_data.head()"
      ],
      "metadata": {
        "colab": {
          "base_uri": "https://localhost:8080/",
          "height": 206
        },
        "id": "PtZruXvXwyZm",
        "outputId": "a219e4a0-316e-48ec-b27d-800e9715b548"
      },
      "execution_count": 40,
      "outputs": [
        {
          "output_type": "execute_result",
          "data": {
            "text/plain": [
              "    Channel    Region     Fresh      Milk   Grocery    Frozen  \\\n",
              "0  0.000112  0.000168  0.708333  0.539874  0.422741  0.011965   \n",
              "1  0.000125  0.000188  0.442198  0.614704  0.599540  0.110409   \n",
              "2  0.000125  0.000187  0.396552  0.549792  0.479632  0.150119   \n",
              "3  0.000065  0.000194  0.856837  0.077254  0.272650  0.413659   \n",
              "4  0.000079  0.000119  0.895416  0.214203  0.284997  0.155010   \n",
              "\n",
              "   Detergents_Paper  Delicassen  \n",
              "0          0.149505    0.074809  \n",
              "1          0.206342    0.111286  \n",
              "2          0.219467    0.489619  \n",
              "3          0.032749    0.115494  \n",
              "4          0.070358    0.205294  "
            ],
            "text/html": [
              "\n",
              "  <div id=\"df-cb2d7c14-e3d6-4616-accd-cf5539fefe7c\">\n",
              "    <div class=\"colab-df-container\">\n",
              "      <div>\n",
              "<style scoped>\n",
              "    .dataframe tbody tr th:only-of-type {\n",
              "        vertical-align: middle;\n",
              "    }\n",
              "\n",
              "    .dataframe tbody tr th {\n",
              "        vertical-align: top;\n",
              "    }\n",
              "\n",
              "    .dataframe thead th {\n",
              "        text-align: right;\n",
              "    }\n",
              "</style>\n",
              "<table border=\"1\" class=\"dataframe\">\n",
              "  <thead>\n",
              "    <tr style=\"text-align: right;\">\n",
              "      <th></th>\n",
              "      <th>Channel</th>\n",
              "      <th>Region</th>\n",
              "      <th>Fresh</th>\n",
              "      <th>Milk</th>\n",
              "      <th>Grocery</th>\n",
              "      <th>Frozen</th>\n",
              "      <th>Detergents_Paper</th>\n",
              "      <th>Delicassen</th>\n",
              "    </tr>\n",
              "  </thead>\n",
              "  <tbody>\n",
              "    <tr>\n",
              "      <th>0</th>\n",
              "      <td>0.000112</td>\n",
              "      <td>0.000168</td>\n",
              "      <td>0.708333</td>\n",
              "      <td>0.539874</td>\n",
              "      <td>0.422741</td>\n",
              "      <td>0.011965</td>\n",
              "      <td>0.149505</td>\n",
              "      <td>0.074809</td>\n",
              "    </tr>\n",
              "    <tr>\n",
              "      <th>1</th>\n",
              "      <td>0.000125</td>\n",
              "      <td>0.000188</td>\n",
              "      <td>0.442198</td>\n",
              "      <td>0.614704</td>\n",
              "      <td>0.599540</td>\n",
              "      <td>0.110409</td>\n",
              "      <td>0.206342</td>\n",
              "      <td>0.111286</td>\n",
              "    </tr>\n",
              "    <tr>\n",
              "      <th>2</th>\n",
              "      <td>0.000125</td>\n",
              "      <td>0.000187</td>\n",
              "      <td>0.396552</td>\n",
              "      <td>0.549792</td>\n",
              "      <td>0.479632</td>\n",
              "      <td>0.150119</td>\n",
              "      <td>0.219467</td>\n",
              "      <td>0.489619</td>\n",
              "    </tr>\n",
              "    <tr>\n",
              "      <th>3</th>\n",
              "      <td>0.000065</td>\n",
              "      <td>0.000194</td>\n",
              "      <td>0.856837</td>\n",
              "      <td>0.077254</td>\n",
              "      <td>0.272650</td>\n",
              "      <td>0.413659</td>\n",
              "      <td>0.032749</td>\n",
              "      <td>0.115494</td>\n",
              "    </tr>\n",
              "    <tr>\n",
              "      <th>4</th>\n",
              "      <td>0.000079</td>\n",
              "      <td>0.000119</td>\n",
              "      <td>0.895416</td>\n",
              "      <td>0.214203</td>\n",
              "      <td>0.284997</td>\n",
              "      <td>0.155010</td>\n",
              "      <td>0.070358</td>\n",
              "      <td>0.205294</td>\n",
              "    </tr>\n",
              "  </tbody>\n",
              "</table>\n",
              "</div>\n",
              "      <button class=\"colab-df-convert\" onclick=\"convertToInteractive('df-cb2d7c14-e3d6-4616-accd-cf5539fefe7c')\"\n",
              "              title=\"Convert this dataframe to an interactive table.\"\n",
              "              style=\"display:none;\">\n",
              "        \n",
              "  <svg xmlns=\"http://www.w3.org/2000/svg\" height=\"24px\"viewBox=\"0 0 24 24\"\n",
              "       width=\"24px\">\n",
              "    <path d=\"M0 0h24v24H0V0z\" fill=\"none\"/>\n",
              "    <path d=\"M18.56 5.44l.94 2.06.94-2.06 2.06-.94-2.06-.94-.94-2.06-.94 2.06-2.06.94zm-11 1L8.5 8.5l.94-2.06 2.06-.94-2.06-.94L8.5 2.5l-.94 2.06-2.06.94zm10 10l.94 2.06.94-2.06 2.06-.94-2.06-.94-.94-2.06-.94 2.06-2.06.94z\"/><path d=\"M17.41 7.96l-1.37-1.37c-.4-.4-.92-.59-1.43-.59-.52 0-1.04.2-1.43.59L10.3 9.45l-7.72 7.72c-.78.78-.78 2.05 0 2.83L4 21.41c.39.39.9.59 1.41.59.51 0 1.02-.2 1.41-.59l7.78-7.78 2.81-2.81c.8-.78.8-2.07 0-2.86zM5.41 20L4 18.59l7.72-7.72 1.47 1.35L5.41 20z\"/>\n",
              "  </svg>\n",
              "      </button>\n",
              "      \n",
              "  <style>\n",
              "    .colab-df-container {\n",
              "      display:flex;\n",
              "      flex-wrap:wrap;\n",
              "      gap: 12px;\n",
              "    }\n",
              "\n",
              "    .colab-df-convert {\n",
              "      background-color: #E8F0FE;\n",
              "      border: none;\n",
              "      border-radius: 50%;\n",
              "      cursor: pointer;\n",
              "      display: none;\n",
              "      fill: #1967D2;\n",
              "      height: 32px;\n",
              "      padding: 0 0 0 0;\n",
              "      width: 32px;\n",
              "    }\n",
              "\n",
              "    .colab-df-convert:hover {\n",
              "      background-color: #E2EBFA;\n",
              "      box-shadow: 0px 1px 2px rgba(60, 64, 67, 0.3), 0px 1px 3px 1px rgba(60, 64, 67, 0.15);\n",
              "      fill: #174EA6;\n",
              "    }\n",
              "\n",
              "    [theme=dark] .colab-df-convert {\n",
              "      background-color: #3B4455;\n",
              "      fill: #D2E3FC;\n",
              "    }\n",
              "\n",
              "    [theme=dark] .colab-df-convert:hover {\n",
              "      background-color: #434B5C;\n",
              "      box-shadow: 0px 1px 3px 1px rgba(0, 0, 0, 0.15);\n",
              "      filter: drop-shadow(0px 1px 2px rgba(0, 0, 0, 0.3));\n",
              "      fill: #FFFFFF;\n",
              "    }\n",
              "  </style>\n",
              "\n",
              "      <script>\n",
              "        const buttonEl =\n",
              "          document.querySelector('#df-cb2d7c14-e3d6-4616-accd-cf5539fefe7c button.colab-df-convert');\n",
              "        buttonEl.style.display =\n",
              "          google.colab.kernel.accessAllowed ? 'block' : 'none';\n",
              "\n",
              "        async function convertToInteractive(key) {\n",
              "          const element = document.querySelector('#df-cb2d7c14-e3d6-4616-accd-cf5539fefe7c');\n",
              "          const dataTable =\n",
              "            await google.colab.kernel.invokeFunction('convertToInteractive',\n",
              "                                                     [key], {});\n",
              "          if (!dataTable) return;\n",
              "\n",
              "          const docLinkHtml = 'Like what you see? Visit the ' +\n",
              "            '<a target=\"_blank\" href=https://colab.research.google.com/notebooks/data_table.ipynb>data table notebook</a>'\n",
              "            + ' to learn more about interactive tables.';\n",
              "          element.innerHTML = '';\n",
              "          dataTable['output_type'] = 'display_data';\n",
              "          await google.colab.output.renderOutput(dataTable, element);\n",
              "          const docLink = document.createElement('div');\n",
              "          docLink.innerHTML = docLinkHtml;\n",
              "          element.appendChild(docLink);\n",
              "        }\n",
              "      </script>\n",
              "    </div>\n",
              "  </div>\n",
              "  "
            ]
          },
          "metadata": {},
          "execution_count": 40
        }
      ]
    },
    {
      "cell_type": "code",
      "source": [
        "from sklearn.decomposition import PCA\n",
        "pca = PCA(n_components = 3)\n",
        "pca.fit(Normalized_data)\n",
        "pca_data = pca.transform(Normalized_data)"
      ],
      "metadata": {
        "id": "cg2bjQNMbjfk"
      },
      "execution_count": 41,
      "outputs": []
    },
    {
      "cell_type": "code",
      "source": [
        "pca_data"
      ],
      "metadata": {
        "colab": {
          "base_uri": "https://localhost:8080/"
        },
        "id": "KBMYORmvn8WK",
        "outputId": "e5976d10-b03d-4ea0-a37f-2442e1a603e8"
      },
      "execution_count": 42,
      "outputs": [
        {
          "output_type": "execute_result",
          "data": {
            "text/plain": [
              "array([[ 0.03403705, -0.18042088,  0.22975424],\n",
              "       [ 0.35105737, -0.04664416,  0.18028567],\n",
              "       [ 0.30537543,  0.05555107,  0.22151184],\n",
              "       ...,\n",
              "       [ 0.46483711, -0.1918836 , -0.10897555],\n",
              "       [-0.41200132, -0.12067567,  0.05906545],\n",
              "       [ 0.10296864, -0.21244563,  0.03842037]])"
            ]
          },
          "metadata": {},
          "execution_count": 42
        }
      ]
    },
    {
      "cell_type": "code",
      "source": [
        "pca_data.shape"
      ],
      "metadata": {
        "colab": {
          "base_uri": "https://localhost:8080/"
        },
        "id": "MgAnhJE7kJtN",
        "outputId": "339821f3-d9d7-4a6b-a0e5-4e979db9c163"
      },
      "execution_count": 43,
      "outputs": [
        {
          "output_type": "execute_result",
          "data": {
            "text/plain": [
              "(440, 3)"
            ]
          },
          "metadata": {},
          "execution_count": 43
        }
      ]
    },
    {
      "cell_type": "code",
      "source": [
        "pca.explained_variance_ratio_"
      ],
      "metadata": {
        "colab": {
          "base_uri": "https://localhost:8080/"
        },
        "id": "ejEeZ0BRcIbA",
        "outputId": "f4f0d356-89c5-460a-ced2-b514d47d54cc"
      },
      "execution_count": 44,
      "outputs": [
        {
          "output_type": "execute_result",
          "data": {
            "text/plain": [
              "array([0.68188469, 0.14615157, 0.09622214])"
            ]
          },
          "metadata": {},
          "execution_count": 44
        }
      ]
    },
    {
      "cell_type": "code",
      "source": [
        "pd.DataFrame(pca.components_, columns = Normalized_data.columns, index= [\"PC-1\", \"PC-2\", \"PC-3\"])"
      ],
      "metadata": {
        "colab": {
          "base_uri": "https://localhost:8080/",
          "height": 143
        },
        "id": "JMGca4c0cMps",
        "outputId": "a225b373-724c-4056-b169-7afd4d687999"
      },
      "execution_count": 45,
      "outputs": [
        {
          "output_type": "execute_result",
          "data": {
            "text/plain": [
              "       Channel    Region     Fresh      Milk   Grocery    Frozen  \\\n",
              "PC-1  0.000037  0.000016 -0.720606  0.344109  0.537571 -0.106800   \n",
              "PC-2  0.000072  0.000257 -0.325226  0.057227 -0.220449  0.898543   \n",
              "PC-3 -0.000012  0.000034  0.066263  0.853474 -0.405896 -0.183399   \n",
              "\n",
              "      Detergents_Paper  Delicassen  \n",
              "PC-1          0.247658    0.024347  \n",
              "PC-2         -0.167915    0.082343  \n",
              "PC-3         -0.206943    0.161182  "
            ],
            "text/html": [
              "\n",
              "  <div id=\"df-938cb3f5-3604-4f79-96a9-227499d8dbe7\">\n",
              "    <div class=\"colab-df-container\">\n",
              "      <div>\n",
              "<style scoped>\n",
              "    .dataframe tbody tr th:only-of-type {\n",
              "        vertical-align: middle;\n",
              "    }\n",
              "\n",
              "    .dataframe tbody tr th {\n",
              "        vertical-align: top;\n",
              "    }\n",
              "\n",
              "    .dataframe thead th {\n",
              "        text-align: right;\n",
              "    }\n",
              "</style>\n",
              "<table border=\"1\" class=\"dataframe\">\n",
              "  <thead>\n",
              "    <tr style=\"text-align: right;\">\n",
              "      <th></th>\n",
              "      <th>Channel</th>\n",
              "      <th>Region</th>\n",
              "      <th>Fresh</th>\n",
              "      <th>Milk</th>\n",
              "      <th>Grocery</th>\n",
              "      <th>Frozen</th>\n",
              "      <th>Detergents_Paper</th>\n",
              "      <th>Delicassen</th>\n",
              "    </tr>\n",
              "  </thead>\n",
              "  <tbody>\n",
              "    <tr>\n",
              "      <th>PC-1</th>\n",
              "      <td>0.000037</td>\n",
              "      <td>0.000016</td>\n",
              "      <td>-0.720606</td>\n",
              "      <td>0.344109</td>\n",
              "      <td>0.537571</td>\n",
              "      <td>-0.106800</td>\n",
              "      <td>0.247658</td>\n",
              "      <td>0.024347</td>\n",
              "    </tr>\n",
              "    <tr>\n",
              "      <th>PC-2</th>\n",
              "      <td>0.000072</td>\n",
              "      <td>0.000257</td>\n",
              "      <td>-0.325226</td>\n",
              "      <td>0.057227</td>\n",
              "      <td>-0.220449</td>\n",
              "      <td>0.898543</td>\n",
              "      <td>-0.167915</td>\n",
              "      <td>0.082343</td>\n",
              "    </tr>\n",
              "    <tr>\n",
              "      <th>PC-3</th>\n",
              "      <td>-0.000012</td>\n",
              "      <td>0.000034</td>\n",
              "      <td>0.066263</td>\n",
              "      <td>0.853474</td>\n",
              "      <td>-0.405896</td>\n",
              "      <td>-0.183399</td>\n",
              "      <td>-0.206943</td>\n",
              "      <td>0.161182</td>\n",
              "    </tr>\n",
              "  </tbody>\n",
              "</table>\n",
              "</div>\n",
              "      <button class=\"colab-df-convert\" onclick=\"convertToInteractive('df-938cb3f5-3604-4f79-96a9-227499d8dbe7')\"\n",
              "              title=\"Convert this dataframe to an interactive table.\"\n",
              "              style=\"display:none;\">\n",
              "        \n",
              "  <svg xmlns=\"http://www.w3.org/2000/svg\" height=\"24px\"viewBox=\"0 0 24 24\"\n",
              "       width=\"24px\">\n",
              "    <path d=\"M0 0h24v24H0V0z\" fill=\"none\"/>\n",
              "    <path d=\"M18.56 5.44l.94 2.06.94-2.06 2.06-.94-2.06-.94-.94-2.06-.94 2.06-2.06.94zm-11 1L8.5 8.5l.94-2.06 2.06-.94-2.06-.94L8.5 2.5l-.94 2.06-2.06.94zm10 10l.94 2.06.94-2.06 2.06-.94-2.06-.94-.94-2.06-.94 2.06-2.06.94z\"/><path d=\"M17.41 7.96l-1.37-1.37c-.4-.4-.92-.59-1.43-.59-.52 0-1.04.2-1.43.59L10.3 9.45l-7.72 7.72c-.78.78-.78 2.05 0 2.83L4 21.41c.39.39.9.59 1.41.59.51 0 1.02-.2 1.41-.59l7.78-7.78 2.81-2.81c.8-.78.8-2.07 0-2.86zM5.41 20L4 18.59l7.72-7.72 1.47 1.35L5.41 20z\"/>\n",
              "  </svg>\n",
              "      </button>\n",
              "      \n",
              "  <style>\n",
              "    .colab-df-container {\n",
              "      display:flex;\n",
              "      flex-wrap:wrap;\n",
              "      gap: 12px;\n",
              "    }\n",
              "\n",
              "    .colab-df-convert {\n",
              "      background-color: #E8F0FE;\n",
              "      border: none;\n",
              "      border-radius: 50%;\n",
              "      cursor: pointer;\n",
              "      display: none;\n",
              "      fill: #1967D2;\n",
              "      height: 32px;\n",
              "      padding: 0 0 0 0;\n",
              "      width: 32px;\n",
              "    }\n",
              "\n",
              "    .colab-df-convert:hover {\n",
              "      background-color: #E2EBFA;\n",
              "      box-shadow: 0px 1px 2px rgba(60, 64, 67, 0.3), 0px 1px 3px 1px rgba(60, 64, 67, 0.15);\n",
              "      fill: #174EA6;\n",
              "    }\n",
              "\n",
              "    [theme=dark] .colab-df-convert {\n",
              "      background-color: #3B4455;\n",
              "      fill: #D2E3FC;\n",
              "    }\n",
              "\n",
              "    [theme=dark] .colab-df-convert:hover {\n",
              "      background-color: #434B5C;\n",
              "      box-shadow: 0px 1px 3px 1px rgba(0, 0, 0, 0.15);\n",
              "      filter: drop-shadow(0px 1px 2px rgba(0, 0, 0, 0.3));\n",
              "      fill: #FFFFFF;\n",
              "    }\n",
              "  </style>\n",
              "\n",
              "      <script>\n",
              "        const buttonEl =\n",
              "          document.querySelector('#df-938cb3f5-3604-4f79-96a9-227499d8dbe7 button.colab-df-convert');\n",
              "        buttonEl.style.display =\n",
              "          google.colab.kernel.accessAllowed ? 'block' : 'none';\n",
              "\n",
              "        async function convertToInteractive(key) {\n",
              "          const element = document.querySelector('#df-938cb3f5-3604-4f79-96a9-227499d8dbe7');\n",
              "          const dataTable =\n",
              "            await google.colab.kernel.invokeFunction('convertToInteractive',\n",
              "                                                     [key], {});\n",
              "          if (!dataTable) return;\n",
              "\n",
              "          const docLinkHtml = 'Like what you see? Visit the ' +\n",
              "            '<a target=\"_blank\" href=https://colab.research.google.com/notebooks/data_table.ipynb>data table notebook</a>'\n",
              "            + ' to learn more about interactive tables.';\n",
              "          element.innerHTML = '';\n",
              "          dataTable['output_type'] = 'display_data';\n",
              "          await google.colab.output.renderOutput(dataTable, element);\n",
              "          const docLink = document.createElement('div');\n",
              "          docLink.innerHTML = docLinkHtml;\n",
              "          element.appendChild(docLink);\n",
              "        }\n",
              "      </script>\n",
              "    </div>\n",
              "  </div>\n",
              "  "
            ]
          },
          "metadata": {},
          "execution_count": 45
        }
      ]
    },
    {
      "cell_type": "code",
      "source": [
        "#K-means Clustering\n",
        "y=[]\n",
        "for km in np.arange(2,10):\n",
        "    kmeans = KMeans( n_clusters = km, init='k-means++',random_state=42)\n",
        "    kmeans.fit(pca_data)\n",
        "    y.append(kmeans.inertia_)"
      ],
      "metadata": {
        "id": "lK_AsDl7xoRs"
      },
      "execution_count": 46,
      "outputs": []
    },
    {
      "cell_type": "code",
      "source": [
        "plt.figure(figsize=(12,6))\n",
        "plt.plot(np.arange(2,10),y,'o-' )\n",
        "plt.xlabel('n_Cluster')\n",
        "plt.ylabel('Inertia')\n",
        "plt.show()"
      ],
      "metadata": {
        "colab": {
          "base_uri": "https://localhost:8080/",
          "height": 401
        },
        "id": "A3EptJY1x2T8",
        "outputId": "4979f5fc-ca9f-47e9-ee75-65d9bac6e4ea"
      },
      "execution_count": 47,
      "outputs": [
        {
          "output_type": "display_data",
          "data": {
            "text/plain": [
              "<Figure size 864x432 with 1 Axes>"
            ],
            "image/png": "[encoded data removed]"
          },
          "metadata": {}
        }
      ]
    },
    {
      "cell_type": "code",
      "source": [
        "kmean_model=KMeans(n_clusters=3,init='k-means++',random_state=42)\n",
        "kmean_model.fit(Normalized_data)\n",
        "predict=kmean_model.predict(Normalized_data)\n",
        "predict\n",
        "Normalized_data['K-means_cluster_PCA'] = predict\n",
        "Normalized_data['K-means_cluster_PCA'].value_counts()"
      ],
      "metadata": {
        "colab": {
          "base_uri": "https://localhost:8080/"
        },
        "id": "a1r2TYfDx2O7",
        "outputId": "159bcbb8-116b-438b-bdb1-8701438a1fa0"
      },
      "execution_count": 48,
      "outputs": [
        {
          "output_type": "execute_result",
          "data": {
            "text/plain": [
              "1    210\n",
              "0    177\n",
              "2     53\n",
              "Name: K-means_cluster_PCA, dtype: int64"
            ]
          },
          "metadata": {},
          "execution_count": 48
        }
      ]
    },
    {
      "cell_type": "code",
      "source": [
        "Normalized_data.drop('K-means_cluster_PCA',axis= 1,inplace=True)"
      ],
      "metadata": {
        "id": "Ev2t438UyETN"
      },
      "execution_count": 49,
      "outputs": []
    },
    {
      "cell_type": "code",
      "source": [
        "#hierarchy method for normalized data\n",
        "link=linkage(pca_data,method='ward')\n",
        "plt.figure(figsize=(20,15))\n",
        "dendrogram(link,orientation='top',distance_sort='ascending',show_leaf_counts=True)\n",
        "plt.show()"
      ],
      "metadata": {
        "colab": {
          "base_uri": "https://localhost:8080/",
          "height": 865
        },
        "id": "fONePlo7yZJC",
        "outputId": "2e6de300-fdf4-45b2-fb1f-159dddd0b692"
      },
      "execution_count": 50,
      "outputs": [
        {
          "output_type": "display_data",
          "data": {
            "text/plain": [
              "<Figure size 1440x1080 with 1 Axes>"
            ],
            "image/png": "[encoded data removed]"
          },
          "metadata": {}
        }
      ]
    },
    {
      "cell_type": "code",
      "source": [
        "hm=AgglomerativeClustering(n_clusters=3,affinity='euclidean',linkage='ward')\n",
        "predict1=hm.fit_predict(Normalized_data)\n",
        "predict1"
      ],
      "metadata": {
        "colab": {
          "base_uri": "https://localhost:8080/"
        },
        "id": "u8y88RL3ydOB",
        "outputId": "0a73f5a9-12b6-463e-bd1e-2daa961c3dd5"
      },
      "execution_count": 51,
      "outputs": [
        {
          "output_type": "execute_result",
          "data": {
            "text/plain": [
              "array([0, 0, 0, 2, 1, 0, 1, 0, 0, 0, 0, 1, 1, 1, 1, 1, 0, 0, 1, 1, 1, 2,\n",
              "       1, 0, 1, 1, 1, 1, 0, 1, 1, 0, 1, 1, 0, 0, 1, 0, 0, 1, 1, 1, 0, 0,\n",
              "       0, 0, 0, 0, 0, 0, 2, 0, 1, 0, 1, 0, 0, 0, 1, 0, 1, 0, 0, 0, 2, 0,\n",
              "       0, 1, 0, 1, 2, 1, 2, 2, 0, 1, 2, 0, 1, 0, 1, 0, 0, 1, 1, 0, 0, 1,\n",
              "       2, 1, 1, 2, 0, 2, 0, 0, 0, 2, 2, 2, 0, 0, 0, 1, 1, 1, 0, 0, 0, 0,\n",
              "       1, 0, 2, 1, 1, 1, 1, 0, 1, 2, 1, 2, 1, 0, 1, 1, 2, 1, 0, 1, 2, 1,\n",
              "       1, 1, 1, 1, 0, 0, 1, 0, 1, 1, 1, 2, 1, 0, 1, 1, 2, 1, 1, 0, 1, 0,\n",
              "       1, 0, 0, 1, 0, 0, 0, 1, 1, 0, 0, 0, 0, 0, 1, 2, 0, 0, 0, 0, 0, 0,\n",
              "       1, 1, 1, 0, 1, 1, 0, 0, 0, 2, 2, 0, 0, 0, 2, 1, 1, 0, 1, 2, 2, 0,\n",
              "       2, 1, 0, 0, 1, 0, 0, 0, 1, 0, 0, 0, 1, 0, 1, 0, 0, 0, 0, 1, 0, 2,\n",
              "       1, 0, 2, 2, 1, 1, 1, 2, 0, 2, 2, 0, 1, 0, 1, 0, 1, 1, 1, 1, 2, 1,\n",
              "       1, 1, 0, 0, 1, 1, 1, 2, 2, 0, 2, 1, 0, 1, 1, 2, 1, 1, 1, 2, 1, 0,\n",
              "       0, 0, 0, 1, 0, 1, 2, 0, 0, 1, 0, 0, 1, 2, 2, 1, 0, 1, 1, 2, 1, 1,\n",
              "       1, 2, 1, 1, 0, 2, 0, 0, 1, 1, 1, 1, 0, 0, 1, 0, 0, 0, 0, 0, 0, 1,\n",
              "       1, 0, 2, 1, 0, 2, 1, 0, 1, 0, 1, 0, 0, 2, 1, 1, 1, 2, 2, 0, 2, 2,\n",
              "       2, 0, 1, 0, 2, 1, 1, 2, 2, 2, 0, 0, 0, 0, 2, 0, 0, 1, 0, 0, 2, 0,\n",
              "       0, 0, 2, 0, 1, 0, 0, 0, 1, 1, 0, 1, 2, 0, 1, 2, 1, 1, 1, 2, 0, 1,\n",
              "       1, 1, 0, 1, 0, 0, 1, 2, 1, 2, 0, 1, 0, 1, 1, 1, 2, 0, 0, 2, 1, 1,\n",
              "       0, 2, 2, 1, 2, 2, 1, 1, 1, 1, 2, 0, 1, 1, 1, 0, 0, 2, 2, 0, 0, 0,\n",
              "       0, 1, 0, 1, 1, 1, 1, 2, 0, 2, 0, 1, 0, 2, 1, 0, 1, 2, 1, 0, 1, 0])"
            ]
          },
          "metadata": {},
          "execution_count": 51
        }
      ]
    },
    {
      "cell_type": "code",
      "source": [
        "Normalized_data['Hierarchy_Cluster_PCA'] = predict1\n",
        "Normalized_data['Hierarchy_Cluster_PCA'].value_counts()"
      ],
      "metadata": {
        "colab": {
          "base_uri": "https://localhost:8080/"
        },
        "id": "1LQ1RogWye1T",
        "outputId": "7787cad6-0894-4989-d3a2-09e54f13a136"
      },
      "execution_count": 52,
      "outputs": [
        {
          "output_type": "execute_result",
          "data": {
            "text/plain": [
              "0    183\n",
              "1    178\n",
              "2     79\n",
              "Name: Hierarchy_Cluster_PCA, dtype: int64"
            ]
          },
          "metadata": {},
          "execution_count": 52
        }
      ]
    },
    {
      "cell_type": "code",
      "source": [
        "Normalized_data.drop('Hierarchy_Cluster_PCA',axis= 1,inplace=True)"
      ],
      "metadata": {
        "id": "eyBwgo1wyhgu"
      },
      "execution_count": 53,
      "outputs": []
    }
  ]
}